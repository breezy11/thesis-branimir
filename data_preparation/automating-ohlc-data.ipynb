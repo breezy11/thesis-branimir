{
 "cells": [
  {
   "cell_type": "code",
   "execution_count": 1,
   "id": "5277ff21",
   "metadata": {},
   "outputs": [],
   "source": [
    "# imports\n",
    "import pandas as pd\n",
    "import numpy as np\n",
    "import os\n",
    "import datetime\n",
    "import tradingeconomics as te\n",
    "from datetime import datetime, timedelta\n",
    "import matplotlib.pyplot as plt\n",
    "\n",
    "te.login('86A02B2788834D4:AD2DEAA48B0144C')\n",
    "\n",
    "pd.set_option('display.max_rows', 15)\n",
    "pd.set_option('display.max_columns', 15)"
   ]
  },
  {
   "cell_type": "markdown",
   "id": "3bb072b0",
   "metadata": {},
   "source": [
    "## 1. Currency pairs"
   ]
  },
  {
   "cell_type": "code",
   "execution_count": 2,
   "id": "3bfdc5ce",
   "metadata": {},
   "outputs": [],
   "source": [
    "# te.getSearch(term  = 'EUR', output_type = 'df')"
   ]
  },
  {
   "cell_type": "code",
   "execution_count": 3,
   "id": "c0dc4f24",
   "metadata": {},
   "outputs": [],
   "source": [
    "# 51 currency pairs\n",
    "\n",
    "currency_pairs_ = ['AUDUSD:CUR',\n",
    " 'EURAUD:CUR',\n",
    " 'EURBRL:CUR',\n",
    " 'EURCAD:CUR',\n",
    " 'EURCHF:CUR',\n",
    " 'EURCNY:CUR',\n",
    " 'EURCZK:CUR',\n",
    " 'EURGBP:CUR',\n",
    " 'EURHUF:CUR',\n",
    " 'EURIDR:CUR',\n",
    " 'EURINR:CUR',\n",
    " 'EURJPY:CUR',\n",
    " 'EURKRW:CUR',\n",
    " 'EURMXN:CUR',\n",
    " 'EURMYR:CUR',\n",
    " 'EURNZD:CUR',\n",
    " 'EURPLN:CUR',\n",
    " 'EURRON:CUR',\n",
    " 'EURRUB:CUR',\n",
    " 'EURSEK:CUR',\n",
    " 'EURTHB:CUR',\n",
    " 'EURTRY:CUR',\n",
    " 'EURUAH:CUR',\n",
    " 'EURUSD:CUR',\n",
    " 'EURZAR:CUR',\n",
    " 'GBPUSD:CUR',\n",
    " 'USDBRL:CUR',\n",
    " 'USDCAD:CUR',\n",
    " 'USDCHF:CUR',\n",
    " 'USDCNY:CUR',\n",
    " 'USDCZK:CUR',\n",
    " 'USDHUF:CUR',\n",
    " 'USDIDR:CUR',\n",
    " 'USDINR:CUR',\n",
    " 'USDJPY:CUR',\n",
    " 'USDKRW:CUR',\n",
    " 'USDMXN:CUR',\n",
    " 'USDMYR:CUR',\n",
    " 'USDPLN:CUR',\n",
    " 'USDRON:CUR',\n",
    " 'USDRUB:CUR',\n",
    " 'USDSAR:CUR',\n",
    " 'USDSEK:CUR',\n",
    " 'USDTHB:CUR',\n",
    " 'USDTRY:CUR',\n",
    " 'USDUAH:CUR',\n",
    " 'USDZAR:CUR',\n",
    " 'EURUZS:CUR',\n",
    " 'USDUZS:CUR',\n",
    " 'EURKZT:CUR',\n",
    " 'USDKZT:CUR']"
   ]
  },
  {
   "cell_type": "code",
   "execution_count": 4,
   "id": "1fdfd22d",
   "metadata": {},
   "outputs": [],
   "source": [
    "currency_pairs = {}"
   ]
  },
  {
   "cell_type": "code",
   "execution_count": 5,
   "id": "28a26b68",
   "metadata": {},
   "outputs": [],
   "source": [
    "# start_date = '1960-01-01'"
   ]
  },
  {
   "cell_type": "code",
   "execution_count": 6,
   "id": "94b120cc",
   "metadata": {},
   "outputs": [],
   "source": [
    "# start_date = '2023-01-01'"
   ]
  },
  {
   "cell_type": "code",
   "execution_count": 11,
   "id": "a2c4d74f",
   "metadata": {},
   "outputs": [
    {
     "name": "stdout",
     "output_type": "stream",
     "text": [
      "AUDUSD:CUR\n",
      "EURAUD:CUR\n",
      "EURBRL:CUR\n",
      "EURCAD:CUR\n",
      "EURCHF:CUR\n",
      "EURCNY:CUR\n",
      "EURCZK:CUR\n",
      "EURGBP:CUR\n",
      "EURHUF:CUR\n",
      "EURIDR:CUR\n",
      "EURINR:CUR\n",
      "EURJPY:CUR\n",
      "EURKRW:CUR\n",
      "EURMXN:CUR\n",
      "EURMYR:CUR\n",
      "EURNZD:CUR\n",
      "EURPLN:CUR\n",
      "EURRON:CUR\n",
      "EURRUB:CUR\n",
      "EURSEK:CUR\n",
      "EURTHB:CUR\n",
      "EURTRY:CUR\n",
      "EURUAH:CUR\n",
      "EURUSD:CUR\n",
      "EURZAR:CUR\n",
      "GBPUSD:CUR\n",
      "USDBRL:CUR\n",
      "USDCAD:CUR\n",
      "USDCHF:CUR\n",
      "USDCNY:CUR\n",
      "USDCZK:CUR\n",
      "USDHUF:CUR\n",
      "USDIDR:CUR\n",
      "USDINR:CUR\n",
      "USDJPY:CUR\n",
      "USDKRW:CUR\n",
      "USDMXN:CUR\n",
      "USDMYR:CUR\n",
      "USDPLN:CUR\n",
      "USDRON:CUR\n",
      "USDRUB:CUR\n",
      "USDSAR:CUR\n",
      "USDSEK:CUR\n",
      "USDTHB:CUR\n",
      "USDTRY:CUR\n",
      "USDUAH:CUR\n",
      "USDZAR:CUR\n",
      "EURUZS:CUR\n",
      "USDUZS:CUR\n",
      "EURKZT:CUR\n",
      "USDKZT:CUR\n"
     ]
    }
   ],
   "source": [
    "instrument = 'CL1:COM'\n",
    "\n",
    "shape = 0\n",
    "\n",
    "start_date = '1985-01-01'\n",
    "\n",
    "while shape < 10000:\n",
    "    df = te.getHistorical(symbol = instrument , output_type = 'df', initDate = start_date)\n",
    "        \n",
    "    df.set_index('Date', inplace=True)\n",
    "    df.index = pd.to_datetime(df.index, format='%d/%m/%Y')\n",
    "    df.drop('Symbol', axis=1, inplace=True)\n",
    "    df.sort_index(ascending=True, inplace=True)\n",
    "\n",
    "    start_date = df.index[-1].strftime('%Y-%m-%d')\n",
    "    \n",
    "    shape = df.shape[0]\n"
   ]
  },
  {
   "cell_type": "code",
   "execution_count": 12,
   "id": "a08d0c18",
   "metadata": {},
   "outputs": [],
   "source": [
    "pd.set_option('display.max_rows', 5)"
   ]
  },
  {
   "cell_type": "markdown",
   "id": "f8dfadf9",
   "metadata": {},
   "source": [
    "## 2. Commodities"
   ]
  },
  {
   "cell_type": "code",
   "execution_count": 13,
   "id": "b1b8dc27",
   "metadata": {},
   "outputs": [],
   "source": [
    "# 18 commodities\n",
    "\n",
    "# all electric things are 1#\n",
    "# gold 1\n",
    "# copper, aluminium, 2$\n",
    "\n",
    "commodities = [\n",
    "'CO1:COM', # Brent crude oil futures 1 \n",
    "'NG1:COM', # US Natural gas futures 1\n",
    "'XB1:COM', # Gasoline futures 1\n",
    "'NGEU:COM', # EU Natural Gas 1\n",
    "'XAUUSD:CUR', # Gold 1 \n",
    "'XAGUSD:CUR', # Silver 2\n",
    "'HG1:COM', # Copper 2\n",
    "'JBP:COM', # Steel 2\n",
    "'XPTUSD:CUR', # Platinum Futures 2\n",
    "'LB1:COM', # Lumber (Timber, Wood) 2\n",
    "'LMAHDS03:COM', # Aluminium 2\n",
    "'LMZSDS03:COM', # Zink 2\n",
    "'LN1:COM', # Nickel 2\n",
    "'POL:COM', # Polyethylene - CNY 1\n",
    "'PVC:COM', # Polyvinyl - CNY 1\n",
    "'PYL:COM', # Polypropylene - CNY 1\n",
    "'CRYTR:IND', # CRB Commodity Index 1\n",
    "'SPGSCITR:IND'] # GSCI Commodity Index 1\n",
    "\n",
    "commodities_dict = {}"
   ]
  },
  {
   "cell_type": "code",
   "execution_count": 14,
   "id": "2c4c7758",
   "metadata": {
    "scrolled": true
   },
   "outputs": [
    {
     "name": "stdout",
     "output_type": "stream",
     "text": [
      "CO1:COM\n",
      "NG1:COM\n",
      "XB1:COM\n",
      "NGEU:COM\n",
      "XAUUSD:CUR\n",
      "XAGUSD:CUR\n",
      "HG1:COM\n",
      "JBP:COM\n",
      "XPTUSD:CUR\n",
      "LB1:COM\n",
      "LMAHDS03:COM\n",
      "LMZSDS03:COM\n",
      "LN1:COM\n",
      "POL:COM\n",
      "PVC:COM\n",
      "PYL:COM\n",
      "CRYTR:IND\n",
      "SPGSCITR:IND\n"
     ]
    }
   ],
   "source": [
    "for commodity in commodities:\n",
    "    print(commodity)\n",
    "    df = te.getHistorical(symbol = commodity , output_type = 'df', initDate = start_date)\n",
    "    \n",
    "    df.set_index('Date', inplace=True)\n",
    "    df.index = pd.to_datetime(df.index, format='%d/%m/%Y')\n",
    "    df.drop('Symbol', axis=1, inplace=True)\n",
    "    df.sort_index(ascending=True, inplace=True)\n",
    "    \n",
    "    if(df.shape[0] == 10000):\n",
    "        last_date = (df.index.tolist()[0] - timedelta(days=1)).strftime('%Y-%m-%d')\n",
    "        \n",
    "        df_2 = te.getHistorical(symbol = commodity , output_type = 'df', initDate = start_date, endDate = last_date)\n",
    "\n",
    "        df_2.set_index('Date', inplace=True)\n",
    "        df_2.index = pd.to_datetime(df_2.index, format='%d/%m/%Y')\n",
    "        df_2.drop('Symbol', axis=1, inplace=True)\n",
    "        df_2.sort_index(ascending=True, inplace=True)\n",
    "        \n",
    "        df = pd.concat([df_2, df])\n",
    "        df.sort_index(ascending=True, inplace=True)\n",
    "            \n",
    "    commodities_dict[commodity] = df"
   ]
  },
  {
   "cell_type": "code",
   "execution_count": 15,
   "id": "93387441",
   "metadata": {},
   "outputs": [
    {
     "data": {
      "text/plain": [
       "{'CO1:COM':              Open     High      Low    Close\n",
       " Date                                        \n",
       " 2023-01-03  85.69  86.6600  81.8600  82.1200\n",
       " 2023-01-04  82.31  82.7000  77.9200  78.0100\n",
       " ...           ...      ...      ...      ...\n",
       " 2023-11-24  81.40  82.2000  80.1300  80.5800\n",
       " 2023-11-27  80.40  80.9083  79.6414  79.8533\n",
       " \n",
       " [234 rows x 4 columns],\n",
       " 'NG1:COM':              Open   High    Low   Close\n",
       " Date                                   \n",
       " 2023-01-03  4.005  4.005  3.620  3.6410\n",
       " 2023-01-04  3.658  3.810  3.595  3.7800\n",
       " ...           ...    ...    ...     ...\n",
       " 2023-11-24  2.897  2.951  2.798  2.8550\n",
       " 2023-11-27  2.778  2.820  2.728  2.7329\n",
       " \n",
       " [234 rows x 4 columns],\n",
       " 'XB1:COM':               Open    High     Low   Close\n",
       " Date                                      \n",
       " 2023-01-02  2.3867  2.4918  2.3867  2.4886\n",
       " 2023-01-03  2.4887  2.5002  2.3545  2.3659\n",
       " ...            ...     ...     ...     ...\n",
       " 2023-11-24  2.2241  2.2480  2.1552  2.1651\n",
       " 2023-11-27  2.1635  2.1766  2.1469  2.1522\n",
       " \n",
       " [231 rows x 4 columns],\n",
       " 'NGEU:COM':              Open    High    Low   Close\n",
       " Date                                    \n",
       " 2023-01-02  70.30  81.150  70.30  77.017\n",
       " 2023-01-03  79.00  79.000  70.73  72.314\n",
       " ...           ...     ...    ...     ...\n",
       " 2023-11-24  45.97  47.585  45.65  46.657\n",
       " 2023-11-27  46.50  46.745  44.55  45.135\n",
       " \n",
       " [235 rows x 4 columns],\n",
       " 'XAUUSD:CUR':                 Open     High      Low    Close\n",
       " Date                                           \n",
       " 2023-01-02  1823.600  1823.69  1823.60  1823.69\n",
       " 2023-01-03  1824.885  1849.89  1824.17  1839.49\n",
       " ...              ...      ...      ...      ...\n",
       " 2023-11-24  1993.835  2003.49  1991.10  2001.97\n",
       " 2023-11-27  2002.275  2018.06  2000.19  2013.07\n",
       " \n",
       " [236 rows x 4 columns],\n",
       " 'XAGUSD:CUR':                Open     High    Low    Close\n",
       " Date                                        \n",
       " 2023-01-02  23.9300  23.9900  23.93  23.9900\n",
       " 2023-01-03  23.9892  24.5500  23.86  23.9830\n",
       " ...             ...      ...    ...      ...\n",
       " 2023-11-24  23.6815  24.3359  23.53  24.3000\n",
       " 2023-11-27  24.2708  24.8055  24.26  24.6795\n",
       " \n",
       " [236 rows x 4 columns],\n",
       " 'HG1:COM':               Open    High     Low   Close\n",
       " Date                                      \n",
       " 2023-01-03  3.8350  3.8620  3.7660  3.7680\n",
       " 2023-01-04  3.7765  3.8040  3.7180  3.7420\n",
       " ...            ...     ...     ...     ...\n",
       " 2023-11-24  3.7695  3.7933  3.7632  3.7873\n",
       " 2023-11-27  3.7895  3.8066  3.7743  3.7797\n",
       " \n",
       " [234 rows x 4 columns],\n",
       " 'JBP:COM':               Open    High     Low   Close\n",
       " Date                                      \n",
       " 2023-01-03  4033.0  4052.0  3959.0  4003.0\n",
       " 2023-01-04  4003.0  4017.0  3955.0  3993.0\n",
       " ...            ...     ...     ...     ...\n",
       " 2023-11-24  3946.0  3981.0  3907.0  3937.0\n",
       " 2023-11-27  3979.0  3982.0  3915.0  3944.0\n",
       " \n",
       " [218 rows x 4 columns],\n",
       " 'XPTUSD:CUR':                Open        High         Low       Close\n",
       " Date                                                   \n",
       " 2023-01-02  1053.00  1073.27002  1046.89417  1067.28601\n",
       " 2023-01-03  1066.49  1091.98000  1063.65000  1083.87634\n",
       " ...             ...         ...         ...         ...\n",
       " 2023-11-24   913.68   935.91000   906.95800   930.60900\n",
       " 2023-11-27   929.50   937.29000   924.89500   937.00500\n",
       " \n",
       " [236 rows x 4 columns],\n",
       " 'LB1:COM':              Open   High    Low  Close\n",
       " Date                                  \n",
       " 2023-01-03  475.5  475.5  468.5  468.5\n",
       " 2023-01-04  475.0  478.5  475.0  475.0\n",
       " ...           ...    ...    ...    ...\n",
       " 2023-11-22  541.5  547.5  536.0  547.0\n",
       " 2023-11-24  547.0  552.5  543.0  551.5\n",
       " \n",
       " [222 rows x 4 columns],\n",
       " 'LMAHDS03:COM':               Open    High     Low   Close\n",
       " Date                                      \n",
       " 2023-01-03  2369.0  2369.0  2311.0  2311.0\n",
       " 2023-01-04  2313.5  2323.0  2310.5  2312.5\n",
       " ...            ...     ...     ...     ...\n",
       " 2023-11-24  2219.0  2219.0  2216.0  2216.0\n",
       " 2023-11-27  2231.5  2242.5  2230.5  2232.0\n",
       " \n",
       " [229 rows x 4 columns],\n",
       " 'LMZSDS03:COM':               Open    High     Low   Close\n",
       " Date                                      \n",
       " 2023-01-03  2977.0  3002.0  2968.0  3002.0\n",
       " 2023-01-04  2955.0  2992.0  2948.0  2992.0\n",
       " ...            ...     ...     ...     ...\n",
       " 2023-11-24  2550.0  2553.5  2547.0  2553.5\n",
       " 2023-11-27  2556.0  2569.5  2544.0  2566.5\n",
       " \n",
       " [229 rows x 4 columns],\n",
       " 'LN1:COM':                Open     High      Low    Close\n",
       " Date                                          \n",
       " 2023-01-02  29886.0  29886.0  29886.0  29886.0\n",
       " 2023-01-03  30958.0  30958.0  30958.0  30958.0\n",
       " ...             ...      ...      ...      ...\n",
       " 2023-11-24  15907.0  15935.0  15890.0  15907.0\n",
       " 2023-11-27  15907.0  15907.0  15907.0  15907.0\n",
       " \n",
       " [236 rows x 4 columns],\n",
       " 'POL:COM':               Open    High     Low   Close\n",
       " Date                                      \n",
       " 2023-01-03  8081.0  8709.0  7436.0  8071.0\n",
       " 2023-01-04  8071.0  8230.0  8039.0  8108.0\n",
       " ...            ...     ...     ...     ...\n",
       " 2023-11-24  7825.0  7901.0  7813.0  7841.0\n",
       " 2023-11-27  7901.0  7901.0  7831.0  7856.0\n",
       " \n",
       " [218 rows x 4 columns],\n",
       " 'PVC:COM':               Open    High     Low   Close\n",
       " Date                                      \n",
       " 2023-01-03  6154.0  6278.0  6050.0  6179.0\n",
       " 2023-01-04  6179.0  6257.0  6130.0  6186.0\n",
       " ...            ...     ...     ...     ...\n",
       " 2023-11-24  5769.0  5862.0  5768.0  5814.0\n",
       " 2023-11-27  5831.0  5870.0  5801.0  5843.0\n",
       " \n",
       " [218 rows x 4 columns],\n",
       " 'PYL:COM':               Open    High     Low   Close\n",
       " Date                                      \n",
       " 2023-01-03  7723.0  7815.0  7723.0  7760.0\n",
       " 2023-01-04  7760.0  7800.0  7755.0  7777.0\n",
       " ...            ...     ...     ...     ...\n",
       " 2023-11-24  7392.0  7438.0  7392.0  7419.0\n",
       " 2023-11-27  7419.0  7437.0  7401.0  7419.0\n",
       " \n",
       " [218 rows x 4 columns],\n",
       " 'CRYTR:IND':                 Open      High       Low     Close\n",
       " Date                                              \n",
       " 2023-01-02  301.3310  301.3310  301.3310  301.3310\n",
       " 2023-01-03  293.2618  293.2618  293.2618  293.2618\n",
       " ...              ...       ...       ...       ...\n",
       " 2023-11-24  309.1460  309.1460  309.1460  309.1460\n",
       " 2023-11-27  309.1460  309.1460  309.1460  309.1460\n",
       " \n",
       " [236 rows x 4 columns],\n",
       " 'SPGSCITR:IND':                 Open      High       Low     Close\n",
       " Date                                              \n",
       " 2023-01-02  3495.765  3495.765  3495.765  3495.765\n",
       " 2023-01-03  3386.029  3386.029  3386.029  3386.029\n",
       " ...              ...       ...       ...       ...\n",
       " 2023-11-24  3450.425  3450.425  3450.425  3450.425\n",
       " 2023-11-27  3450.425  3450.425  3450.425  3450.425\n",
       " \n",
       " [236 rows x 4 columns]}"
      ]
     },
     "execution_count": 15,
     "metadata": {},
     "output_type": "execute_result"
    }
   ],
   "source": [
    "commodities_dict"
   ]
  },
  {
   "cell_type": "markdown",
   "id": "d5b84c24",
   "metadata": {},
   "source": [
    "## 3. Interest rates"
   ]
  },
  {
   "cell_type": "code",
   "execution_count": 7,
   "id": "b964a396",
   "metadata": {},
   "outputs": [],
   "source": [
    "# start_date_ir = '1960-01-01'"
   ]
  },
  {
   "cell_type": "code",
   "execution_count": 14,
   "id": "adc2a9e0",
   "metadata": {
    "scrolled": true
   },
   "outputs": [
    {
     "name": "stdout",
     "output_type": "stream",
     "text": [
      "Czech Republic\n"
     ]
    }
   ],
   "source": [
    "start_date_ir = '1960-01-01'\n",
    "\n",
    "currency_dict = {\n",
    "    'KZT': 'Kazakhstan',\n",
    "    'UAH': 'Ukraine',\n",
    "    'AUD': 'Australia',\n",
    "    'BRL': 'Brazil',\n",
    "    'CAD': 'Canada',\n",
    "    'CHF': 'Switzerland',\n",
    "    'CNY': 'China',\n",
    "    'CZK': 'Czech Republic',\n",
    "    'EUR': 'Euro Area',\n",
    "    'GBP': 'United Kingdom',\n",
    "    'HUF': 'Hungary',\n",
    "    'IDR': 'Indonesia',\n",
    "    'JPY': 'Japan',\n",
    "    'KRW': 'South Korea',\n",
    "    'MXN': 'Mexico',\n",
    "    'MYR': 'Malaysia',\n",
    "    'NZD': 'New Zealand',\n",
    "    'PLN': 'Poland',\n",
    "    'RUB': 'Russia',\n",
    "    'SEK': 'Sweden',\n",
    "    'THB': 'Thailand',\n",
    "    'TRY': 'Turkey',\n",
    "    'USD': 'United States',\n",
    "    'ZAR': 'South Africa',\n",
    "    'INR': 'India',\n",
    "    'RON': 'Romania',\n",
    "    'SAR': 'Saudi Arabia',\n",
    "    'UZS': 'Uzbekistan'\n",
    "}\n",
    "    \n",
    "mix = ['Japan', 'South Korea', 'Thailand', 'South Africa', 'Saudi Arabia']\n",
    "ir = ['Ukraine', 'Brazil', 'Kazakhstan', 'Turkey', 'Uzbekistan', 'Czech Republic']\n",
    "\n",
    "end_date = datetime.now()\n",
    "\n",
    "date_range = pd.bdate_range(start=start_date_ir, end=end_date)\n",
    "date_range_formatted = date_range.strftime('%Y-%m-%dT%H:%M:%S')\n",
    "\n",
    "date_range_formatted = date_range_formatted.tolist()\n",
    "\n",
    "for i in range(len(date_range_formatted)):\n",
    "    date_range_formatted[i] = date_range_formatted[i][:10]\n",
    "    \n",
    "combined_df = pd.DataFrame(index=date_range_formatted)\n",
    "\n",
    "combined_df.index = pd.to_datetime(combined_df.index)\n",
    "\n",
    "for i in currency_dict.values():\n",
    "    if(i in ir):\n",
    "        ticker = te.getHistoricalData(country=i, indicator='Interest Rate')[0][\"HistoricalDataSymbol\"]\n",
    "        \n",
    "        df_temp = te.getHistoricalByTicker(ticker = ticker, start_date = start_date_ir, output_type='df')\n",
    "        df_temp = df_temp[['DateTime', 'Value']]\n",
    "        df_temp.columns = ['Date', i]\n",
    "        df_temp['Date'] = df_temp['Date'].apply(lambda x: x[:10])\n",
    "        df_temp['Date'] = pd.to_datetime(df_temp['Date'])\n",
    "        df_temp.set_index('Date', inplace=True)\n",
    "                \n",
    "        df = df_temp.copy()\n",
    "        df.sort_index(inplace=True, ascending=False)\n",
    "    elif(i in mix):\n",
    "        # interbank rate part\n",
    "        ticker = te.getHistoricalData(country=i, indicator='Interbank Rate')[0][\"HistoricalDataSymbol\"]\n",
    "\n",
    "        df_temp = te.getHistoricalByTicker(ticker = ticker, start_date = start_date_ir, output_type='df')\n",
    "        df_temp = df_temp[['DateTime', 'Value']]\n",
    "        df_temp.columns = ['Date', i]\n",
    "        df_temp['Date'] = df_temp['Date'].apply(lambda x: x[:10])\n",
    "        df_temp['Date'] = pd.to_datetime(df_temp['Date'])\n",
    "        df_temp.set_index('Date', inplace=True)\n",
    "\n",
    "        # interest rate part\n",
    "        ticker_2 = te.getHistoricalData(country=i, indicator='Interest Rate')[0][\"HistoricalDataSymbol\"]\n",
    "\n",
    "        end_date_ir = (df_temp.index[-1] - timedelta(days=1)).strftime('%Y-%m-%d')\n",
    "\n",
    "        df_temp_2 = te.getHistoricalByTicker(ticker = ticker_2, start_date = start_date_ir, output_type='df')\n",
    "        df_temp_2 = df_temp_2[['DateTime', 'Value']]\n",
    "        df_temp_2.columns = ['Date', i]\n",
    "        df_temp_2['Date'] = df_temp_2['Date'].apply(lambda x: x[:10])\n",
    "        df_temp_2['Date'] = pd.to_datetime(df_temp_2['Date'])\n",
    "        df_temp_2.set_index('Date', inplace=True)\n",
    "        df_temp_2 = df_temp_2[df_temp_2.index <= end_date_ir]\n",
    "\n",
    "        df = pd.concat([df_temp_2, df_temp])\n",
    "        df.sort_index(inplace=True, ascending=False)\n",
    "    else:\n",
    "        ticker = te.getHistoricalData(country=i, indicator='Interbank Rate')[0][\"HistoricalDataSymbol\"]\n",
    "        \n",
    "        df_temp = te.getHistoricalByTicker(ticker = ticker, start_date = start_date_ir, output_type='df')\n",
    "        df_temp = df_temp[['DateTime', 'Value']]\n",
    "        df_temp.columns = ['Date', i]\n",
    "        df_temp['Date'] = df_temp['Date'].apply(lambda x: x[:10])\n",
    "        df_temp['Date'] = pd.to_datetime(df_temp['Date'])\n",
    "        df_temp.set_index('Date', inplace=True)\n",
    "        \n",
    "        df = df_temp.copy()    \n",
    "        df.sort_index(inplace=True, ascending=False)\n",
    "\n",
    "    combined_df = pd.concat([combined_df, df_temp], axis=1)\n",
    "    print(i)\n",
    "\n",
    "combined_df = combined_df.sort_index()\n",
    "combined_df.ffill(inplace=True)"
   ]
  },
  {
   "cell_type": "code",
   "execution_count": 18,
   "id": "e52a89fa",
   "metadata": {
    "scrolled": false
   },
   "outputs": [
    {
     "data": {
      "text/plain": [
       "\"for i in currency_dict.values():\\n    \\n    df_shit = combined_df[i]\\n    \\n    plt.figure(figsize=(12, 8))\\n    plt.plot(df_shit)\\n    plt.title(f'Interbank Rate {i}')\\n    plt.xlabel('Date')\\n    plt.ylabel(i)\""
      ]
     },
     "execution_count": 18,
     "metadata": {},
     "output_type": "execute_result"
    }
   ],
   "source": [
    "\"\"\"for i in currency_dict.values():\n",
    "    \n",
    "    df_shit = combined_df[i]\n",
    "    \n",
    "    plt.figure(figsize=(12, 8))\n",
    "    plt.plot(df_shit)\n",
    "    plt.title(f'Interbank Rate {i}')\n",
    "    plt.xlabel('Date')\n",
    "    plt.ylabel(i)\"\"\""
   ]
  },
  {
   "cell_type": "markdown",
   "id": "f3051e52",
   "metadata": {},
   "source": [
    "### 3.1. Currency pairs completely fixed"
   ]
  },
  {
   "cell_type": "code",
   "execution_count": 19,
   "id": "2538bca4",
   "metadata": {},
   "outputs": [],
   "source": [
    "interest_rates = {}\n",
    "\n",
    "for cur_pair in currency_pairs:\n",
    "    key = cur_pair[:6]\n",
    "    base_country = currency_dict[key[:3]]\n",
    "    risk_country = currency_dict[key[3:6]]\n",
    "    interest_rates[cur_pair] = (base_country, risk_country)"
   ]
  },
  {
   "cell_type": "code",
   "execution_count": 20,
   "id": "ca53f6a6",
   "metadata": {},
   "outputs": [],
   "source": [
    "final_dict = {}"
   ]
  },
  {
   "cell_type": "code",
   "execution_count": 21,
   "id": "42aa8b7c",
   "metadata": {},
   "outputs": [],
   "source": [
    "# iterate through all the currency_pairs, and the corresponding interest rate countries\n",
    "for key, value in interest_rates.items():\n",
    "    # take the correct currency_pair dataframe\n",
    "    df_price = currency_pairs[key]\n",
    "    df_price = df_price[df_price.notna()]\n",
    "    df_price.sort_index(ascending=True, inplace= True)\n",
    "    # take the correct home country interest rate\n",
    "    df_ir_base = combined_df[value[0]]\n",
    "    df_ir_base = df_ir_base[df_ir_base.notna()]\n",
    "    df_ir_base.sort_index(ascending=True, inplace= True)\n",
    "    # take the correct risk country interest rate\n",
    "    df_ir_risk = combined_df[value[1]]\n",
    "    df_ir_risk = df_ir_risk[df_ir_risk.notna()]\n",
    "    df_ir_risk.sort_index(ascending=True, inplace= True)\n",
    "    \n",
    "    dates = [df_price.index[0], df_ir_base.index[0], df_ir_risk.index[0]]\n",
    "    dates_subset = max(dates)\n",
    "    \n",
    "    df_price = df_price[df_price.index >= dates_subset]\n",
    "    df_ir_base = df_ir_base[df_ir_base.index >= dates_subset]\n",
    "    df_ir_risk = df_ir_risk[df_ir_risk.index >= dates_subset]\n",
    "    \n",
    "    final_df = df_price.merge(df_ir_base, left_index=True, right_index=True, how='left')\n",
    "    final_df = final_df.merge(df_ir_risk, left_index=True, right_index=True, how='left')\n",
    "    \n",
    "    final_df.ffill(inplace=True)\n",
    "    final_df.bfill(inplace=True)\n",
    "    \n",
    "    final_df['IR_Diff'] = final_df[value[0]] - final_df[value[1]]\n",
    "        \n",
    "    final_dict[key] = final_df"
   ]
  },
  {
   "cell_type": "code",
   "execution_count": 22,
   "id": "622db2c3",
   "metadata": {},
   "outputs": [],
   "source": [
    "currency_pairs_final = final_dict"
   ]
  },
  {
   "cell_type": "markdown",
   "id": "79b97ac0",
   "metadata": {},
   "source": [
    "### 3.1. Commodities completely fixed"
   ]
  },
  {
   "cell_type": "code",
   "execution_count": 23,
   "id": "b4447a51",
   "metadata": {},
   "outputs": [],
   "source": [
    "ir_commodities = {}\n",
    "\n",
    "for commodity in commodities:\n",
    "    if commodity in ['XAGUSD:CUR', 'HG1:COM', 'JBP:COM', 'XPTUSD:CUR', 'LB1:COM', 'LMAHDS03:COM', 'LMZSDS03:COM', 'LN1:COM']:\n",
    "        value = 2\n",
    "    else:\n",
    "        value = 1\n",
    "    if(commodity in ['POL:COM', 'PVC:COM', 'PYL:COM']):\n",
    "        ir_commodities[commodity] = (value, 'China')\n",
    "    else:\n",
    "        ir_commodities[commodity] = (value, 'United States')"
   ]
  },
  {
   "cell_type": "code",
   "execution_count": 24,
   "id": "3310c25b",
   "metadata": {},
   "outputs": [
    {
     "data": {
      "text/plain": [
       "{'CO1:COM': (1, 'United States'),\n",
       " 'NG1:COM': (1, 'United States'),\n",
       " 'XB1:COM': (1, 'United States'),\n",
       " 'NGEU:COM': (1, 'United States'),\n",
       " 'XAUUSD:CUR': (1, 'United States'),\n",
       " 'XAGUSD:CUR': (2, 'United States'),\n",
       " 'HG1:COM': (2, 'United States'),\n",
       " 'JBP:COM': (2, 'United States'),\n",
       " 'XPTUSD:CUR': (2, 'United States'),\n",
       " 'LB1:COM': (2, 'United States'),\n",
       " 'LMAHDS03:COM': (2, 'United States'),\n",
       " 'LMZSDS03:COM': (2, 'United States'),\n",
       " 'LN1:COM': (2, 'United States'),\n",
       " 'POL:COM': (1, 'China'),\n",
       " 'PVC:COM': (1, 'China'),\n",
       " 'PYL:COM': (1, 'China'),\n",
       " 'CRYTR:IND': (1, 'United States'),\n",
       " 'SPGSCITR:IND': (1, 'United States')}"
      ]
     },
     "execution_count": 24,
     "metadata": {},
     "output_type": "execute_result"
    }
   ],
   "source": [
    "ir_commodities"
   ]
  },
  {
   "cell_type": "code",
   "execution_count": 25,
   "id": "d73178d2",
   "metadata": {},
   "outputs": [],
   "source": [
    "final_dict_commodities = {}"
   ]
  },
  {
   "cell_type": "code",
   "execution_count": 26,
   "id": "4beaa50d",
   "metadata": {},
   "outputs": [],
   "source": [
    "for key, value in ir_commodities.items():\n",
    "    \n",
    "    comm_dict = commodities_dict[key].copy()\n",
    "    \n",
    "    comm_dict['Base_IR'] = value[0]\n",
    "        \n",
    "    df_ir_risk = combined_df[value[1]].copy()\n",
    "    df_ir_risk = df_ir_risk[df_ir_risk.notna()]\n",
    "    df_ir_risk.sort_index(ascending=True, inplace= True)\n",
    "    \n",
    "    dates = [comm_dict.index[0],  df_ir_risk.index[0]]\n",
    "    dates_subset = max(dates)\n",
    "    \n",
    "    comm_dict = comm_dict[comm_dict.index >= dates_subset]\n",
    "    df_ir_risk = df_ir_risk[df_ir_risk.index >= dates_subset]\n",
    "    \n",
    "    final_df = comm_dict.merge(df_ir_risk, left_index=True, right_index=True, how='left')\n",
    "    \n",
    "    final_df.ffill(inplace=True)\n",
    "    final_df.bfill(inplace=True)\n",
    "    \n",
    "    final_df['Diff_IR'] = final_df.apply(lambda x: x[value[1]] if (x[value[1]] > x['Base_IR']) else x['Base_IR'], axis=1)\n",
    "    \n",
    "    final_dict_commodities[key] = final_df"
   ]
  },
  {
   "cell_type": "code",
   "execution_count": 27,
   "id": "d827e04d",
   "metadata": {},
   "outputs": [],
   "source": [
    "commodities_final = final_dict_commodities"
   ]
  },
  {
   "cell_type": "code",
   "execution_count": 28,
   "id": "0a6d7623",
   "metadata": {},
   "outputs": [
    {
     "data": {
      "text/plain": [
       "{'AUDUSD:CUR':               Open     High     Low    Close  Australia  United States  \\\n",
       " Date                                                                     \n",
       " 2023-01-31  0.7057  0.70650  0.6982  0.70540       3.07         4.8135   \n",
       " 2023-02-01  0.7056  0.71440  0.7034  0.71350       3.07         4.8135   \n",
       " ...            ...      ...     ...      ...        ...            ...   \n",
       " 2023-11-24  0.6555  0.65900  0.6547  0.65820       4.07         5.6481   \n",
       " 2023-11-27  0.6578  0.65975  0.6564  0.65975       4.07         5.6481   \n",
       " \n",
       "             IR_Diff  \n",
       " Date                 \n",
       " 2023-01-31  -1.7435  \n",
       " 2023-02-01  -1.7435  \n",
       " ...             ...  \n",
       " 2023-11-24  -1.5781  \n",
       " 2023-11-27  -1.5781  \n",
       " \n",
       " [215 rows x 7 columns],\n",
       " 'EURAUD:CUR':               Open    High     Low    Close  Euro Area  Australia  IR_Diff\n",
       " Date                                                                      \n",
       " 2023-01-31  1.5367  1.5497  1.5360  1.53950      2.512       3.07   -0.558\n",
       " 2023-02-01  1.5396  1.5465  1.5354  1.53940      2.483       3.07   -0.587\n",
       " ...            ...     ...     ...      ...        ...        ...      ...\n",
       " 2023-11-24  1.6630  1.6636  1.6587  1.65950      3.935       4.07   -0.135\n",
       " 2023-11-27  1.6622  1.6665  1.6592  1.65944      3.935       4.07   -0.135\n",
       " \n",
       " [215 rows x 7 columns],\n",
       " 'EURBRL:CUR':                 Open      High       Low     Close  Euro Area  Brazil  IR_Diff\n",
       " Date                                                                          \n",
       " 2023-01-31  5.550565  5.590323  5.474736  5.510401      2.512   13.75  -11.238\n",
       " 2023-02-01  5.510401  5.623200  5.470353  5.554610      2.483   13.75  -11.267\n",
       " ...              ...       ...       ...       ...        ...     ...      ...\n",
       " 2023-11-23  5.342469  5.364991  5.316183  5.347213      3.956   12.25   -8.294\n",
       " 2023-11-24  5.350647  5.373059  5.317418  5.362298      3.935   12.25   -8.315\n",
       " \n",
       " [214 rows x 7 columns],\n",
       " 'EURCAD:CUR':               Open    High     Low    Close  Euro Area  Canada  IR_Diff\n",
       " Date                                                                   \n",
       " 2023-01-02  1.4491  1.4508  1.4454  1.44720      2.162  4.9350  -2.7730\n",
       " 2023-01-03  1.4477  1.4505  1.4343  1.44180      2.172  4.9575  -2.7855\n",
       " ...            ...     ...     ...      ...        ...     ...      ...\n",
       " 2023-11-24  1.4931  1.4948  1.4866  1.49140      3.935  5.4950  -1.5600\n",
       " 2023-11-27  1.4917  1.4948  1.4900  1.49224      3.935  5.4950  -1.5600\n",
       " \n",
       " [236 rows x 7 columns],\n",
       " 'EURCHF:CUR':               Open    High      Low    Close  Euro Area  Switzerland  IR_Diff\n",
       " Date                                                                         \n",
       " 2023-01-02  0.9862  0.9886  0.98530  0.98600      2.162       -0.753    2.915\n",
       " 2023-01-03  0.9868  0.9905  0.98380  0.98720      2.172       -0.753    2.925\n",
       " ...            ...     ...      ...      ...        ...          ...      ...\n",
       " 2023-11-24  0.9640  0.9654  0.96290  0.96520      3.935       -0.753    4.688\n",
       " 2023-11-27  0.9653  0.9659  0.96403  0.96427      3.935       -0.753    4.688\n",
       " \n",
       " [236 rows x 7 columns],\n",
       " 'EURCNY:CUR':                Open     High      Low    Close  Euro Area   China  IR_Diff\n",
       " Date                                                                      \n",
       " 2023-01-02  7.35740  7.35740  7.35740  7.35740      2.162  2.5000  -0.3380\n",
       " 2023-01-03  7.35240  7.37950  7.26370  7.30490      2.172  3.2833  -1.1113\n",
       " ...             ...      ...      ...      ...        ...     ...      ...\n",
       " 2023-11-24  7.79686  7.82817  7.79125  7.80948      3.935  2.9676   0.9674\n",
       " 2023-11-27  7.79686  7.84466  7.79686  7.83103      3.935  2.8500   1.0850\n",
       " \n",
       " [236 rows x 7 columns],\n",
       " 'EURCZK:CUR':               Open     High     Low    Close  Euro Area  Czech Republic  \\\n",
       " Date                                                                      \n",
       " 2023-01-02  24.148  24.1720  24.113  24.1470      2.162            0.17   \n",
       " 2023-01-03  24.147  24.1700  24.037  24.0600      2.172            0.17   \n",
       " ...            ...      ...     ...      ...        ...             ...   \n",
       " 2023-11-24  24.398  24.4300  24.327  24.4000      3.935            0.17   \n",
       " 2023-11-27  24.355  24.4206  24.347  24.4206      3.935            0.17   \n",
       " \n",
       "             IR_Diff  \n",
       " Date                 \n",
       " 2023-01-02    1.992  \n",
       " 2023-01-03    2.002  \n",
       " ...             ...  \n",
       " 2023-11-24    3.765  \n",
       " 2023-11-27    3.765  \n",
       " \n",
       " [236 rows x 7 columns],\n",
       " 'EURGBP:CUR':                Open     High      Low    Close  Euro Area  United Kingdom  \\\n",
       " Date                                                                        \n",
       " 2023-01-03  0.87986  0.88622  0.87836  0.88096      2.172          3.8740   \n",
       " 2023-01-04  0.88501  0.88501  0.87835  0.87972      2.170          3.8940   \n",
       " ...             ...      ...      ...      ...        ...             ...   \n",
       " 2023-11-24  0.87529  0.87529  0.86713  0.86718      3.935          5.3646   \n",
       " 2023-11-27  0.86807  0.86878  0.86747  0.86778      3.935          5.3646   \n",
       " \n",
       "             IR_Diff  \n",
       " Date                 \n",
       " 2023-01-03  -1.7020  \n",
       " 2023-01-04  -1.7240  \n",
       " ...             ...  \n",
       " 2023-11-24  -1.4296  \n",
       " 2023-11-27  -1.4296  \n",
       " \n",
       " [235 rows x 7 columns],\n",
       " 'EURHUF:CUR':               Open    High     Low    Close  Euro Area  Hungary  IR_Diff\n",
       " Date                                                                    \n",
       " 2023-01-02  397.34  402.60  397.23  399.260      2.162    16.21  -14.048\n",
       " 2023-01-03  399.06  404.26  398.80  399.840      2.172    16.21  -14.038\n",
       " ...            ...     ...     ...      ...        ...      ...      ...\n",
       " 2023-11-24  379.49  380.88  378.24  379.210      3.935    10.78   -6.845\n",
       " 2023-11-27  377.90  380.64  377.55  380.014      3.935    10.78   -6.845\n",
       " \n",
       " [236 rows x 7 columns],\n",
       " 'EURIDR:CUR':                  Open        High        Low       Close  Euro Area  \\\n",
       " Date                                                                  \n",
       " 2023-01-02  16563.600  16682.0892  16484.652  16600.7340      2.162   \n",
       " 2023-01-03  16622.058  16676.1630  16344.972  16446.4870      2.172   \n",
       " ...               ...         ...        ...         ...        ...   \n",
       " 2023-11-24  16943.262  17084.3540  16927.722  17021.0840      3.935   \n",
       " 2023-11-27  16982.055  17045.1690  16900.975  16959.0716      3.935   \n",
       " \n",
       "             Indonesia  IR_Diff  \n",
       " Date                            \n",
       " 2023-01-02     6.6137  -4.4517  \n",
       " 2023-01-03     6.6100  -4.4380  \n",
       " ...               ...      ...  \n",
       " 2023-11-24     6.9535  -3.0185  \n",
       " 2023-11-27     6.9535  -3.0185  \n",
       " \n",
       " [236 rows x 7 columns],\n",
       " 'EURINR:CUR':                  Open       High        Low      Close  Euro Area  India  \\\n",
       " Date                                                                       \n",
       " 2023-01-02  88.446200  88.624268  87.915482  88.222719      2.162   6.86   \n",
       " 2023-01-03  88.147019  88.680651  86.921804  87.293460      2.172   6.85   \n",
       " ...               ...        ...        ...        ...        ...    ...   \n",
       " 2023-11-24  90.871054  91.290993  90.761674  91.165626      3.935   7.24   \n",
       " 2023-11-27  91.081989  91.394103  90.988862  91.286664      3.935   7.24   \n",
       " \n",
       "             IR_Diff  \n",
       " Date                 \n",
       " 2023-01-02   -4.698  \n",
       " 2023-01-03   -4.678  \n",
       " ...             ...  \n",
       " 2023-11-24   -3.305  \n",
       " 2023-11-27   -3.305  \n",
       " \n",
       " [236 rows x 7 columns],\n",
       " 'EURJPY:CUR':               Open    High     Low   Close  Euro Area   Japan  IR_Diff\n",
       " Date                                                                  \n",
       " 2023-01-04  138.18  140.76  137.86  140.62      2.170  0.0636   2.1064\n",
       " 2023-01-05  140.63  141.35  139.96  140.36      2.178  0.0636   2.1144\n",
       " ...            ...     ...     ...     ...        ...     ...      ...\n",
       " 2023-11-24  163.09  163.65  162.71  163.52      3.935  0.0700   3.8650\n",
       " 2023-11-27  163.57  163.71  162.92  163.14      3.935  0.0700   3.8650\n",
       " \n",
       " [234 rows x 7 columns],\n",
       " 'EURKRW:CUR':                    Open         High          Low        Close  Euro Area  \\\n",
       " Date                                                                        \n",
       " 2023-01-02  1349.205800  1364.062166  1342.157364  1353.039786      2.162   \n",
       " 2023-01-03  1353.039786  1367.840637  1329.380538  1348.938860      2.172   \n",
       " ...                 ...          ...          ...          ...        ...   \n",
       " 2023-11-24  1417.608060  1432.250204  1411.623870  1425.318883      3.935   \n",
       " 2023-11-27  1423.212120  1433.700888  1420.140750  1424.824776      3.935   \n",
       " \n",
       "             South Korea  IR_Diff  \n",
       " Date                              \n",
       " 2023-01-02         4.03   -1.868  \n",
       " 2023-01-03         4.00   -1.828  \n",
       " ...                 ...      ...  \n",
       " 2023-11-24         4.00   -0.065  \n",
       " 2023-11-27         4.00   -0.065  \n",
       " \n",
       " [236 rows x 7 columns],\n",
       " 'EURMXN:CUR':                Open     High      Low     Close  Euro Area  Mexico  IR_Diff\n",
       " Date                                                                       \n",
       " 2023-01-31  20.3390  20.4680  20.2525  20.43700      2.512   10.78   -8.268\n",
       " 2023-02-01  20.4380  20.5050  20.3941  20.43000      2.483   10.78   -8.297\n",
       " ...             ...      ...      ...       ...        ...     ...      ...\n",
       " 2023-11-24  18.7782  18.7782  18.6795  18.69485      3.935   11.50   -7.565\n",
       " 2023-11-27  18.7782  18.7782  18.6821  18.68829      3.935   11.50   -7.565\n",
       " \n",
       " [215 rows x 7 columns],\n",
       " 'EURMYR:CUR':                 Open      High       Low     Close  Euro Area  Malaysia  \\\n",
       " Date                                                                      \n",
       " 2023-01-02  4.708000  4.710640  4.685560  4.691280      2.162      3.67   \n",
       " 2023-01-03  4.685949  4.702657  4.612143  4.642349      2.172      3.67   \n",
       " ...              ...       ...       ...       ...        ...       ...   \n",
       " 2023-11-24  5.102604  5.130233  5.092478  5.122734      3.935      3.51   \n",
       " 2023-11-27  5.112113  5.128344  5.105252  5.118517      3.935      3.51   \n",
       " \n",
       "             IR_Diff  \n",
       " Date                 \n",
       " 2023-01-02   -1.508  \n",
       " 2023-01-03   -1.498  \n",
       " ...             ...  \n",
       " 2023-11-24    0.425  \n",
       " 2023-11-27    0.425  \n",
       " \n",
       " [236 rows x 7 columns],\n",
       " 'EURNZD:CUR':               Open    High     Low    Close  Euro Area  New Zealand  IR_Diff\n",
       " Date                                                                        \n",
       " 2023-01-02  1.6845  1.6898  1.6810  1.68530      2.162         4.65   -2.488\n",
       " 2023-01-03  1.6864  1.6973  1.6777  1.68820      2.172         4.65   -2.478\n",
       " ...            ...     ...     ...      ...        ...          ...      ...\n",
       " 2023-11-24  1.8027  1.8034  1.7959  1.79710      3.935         5.63   -1.695\n",
       " 2023-11-27  1.7987  1.8052  1.7962  1.79786      3.935         5.63   -1.695\n",
       " \n",
       " [236 rows x 7 columns],\n",
       " 'EURPLN:CUR':               Open    High     Low    Close  Euro Area  Poland  IR_Diff\n",
       " Date                                                                   \n",
       " 2023-01-02  4.6707  4.6939  4.6583  4.66540      2.162    6.91   -4.748\n",
       " 2023-01-03  4.6547  4.6866  4.6547  4.67280      2.172    6.91   -4.738\n",
       " ...            ...     ...     ...      ...        ...     ...      ...\n",
       " 2023-11-24  4.3655  4.3752  4.3536  4.35860      3.935    5.73   -1.795\n",
       " 2023-11-27  4.3561  4.3664  4.3518  4.35704      3.935    5.73   -1.795\n",
       " \n",
       " [236 rows x 7 columns],\n",
       " 'EURRON:CUR':                 Open      High       Low     Close  Euro Area  Romania  \\\n",
       " Date                                                                     \n",
       " 2023-01-02  4.939120  4.954951  4.913236  4.919873      2.162     7.42   \n",
       " 2023-01-03  4.918914  5.006588  4.851953  4.927513      2.172     7.41   \n",
       " ...              ...       ...       ...       ...        ...      ...   \n",
       " 2023-11-24  4.966098  4.992179  4.939213  4.961712      3.935     6.10   \n",
       " 2023-11-27  4.961866  4.980849  4.949353  4.966659      3.935     6.10   \n",
       " \n",
       "             IR_Diff  \n",
       " Date                 \n",
       " 2023-01-02   -5.258  \n",
       " 2023-01-03   -5.238  \n",
       " ...             ...  \n",
       " 2023-11-24   -2.165  \n",
       " 2023-11-27   -2.165  \n",
       " \n",
       " [236 rows x 7 columns],\n",
       " 'EURRUB:CUR':                 Open      High      Low     Close  Euro Area  Russia  IR_Diff\n",
       " Date                                                                         \n",
       " 2023-01-02  78.87860  83.84930  74.4104  74.49500      2.162   10.39   -8.228\n",
       " 2023-01-03  74.51040  77.61540  73.5110  75.15980      2.172   10.39   -8.218\n",
       " ...              ...       ...      ...       ...        ...     ...      ...\n",
       " 2023-11-24  98.23809  98.23809  95.5969  96.93609      3.935    9.34   -5.405\n",
       " 2023-11-27  98.23809  98.23809  96.9306  97.03410      3.935    9.34   -5.405\n",
       " \n",
       " [203 rows x 7 columns],\n",
       " 'EURSEK:CUR':                Open     High       Low     Close  Euro Area  Sweden  IR_Diff\n",
       " Date                                                                        \n",
       " 2023-01-02  11.1496  11.1935  11.12860  11.15700      2.162   2.701   -0.539\n",
       " 2023-01-03  11.1549  11.1652  11.09890  11.14890      2.172   2.702   -0.530\n",
       " ...             ...      ...       ...       ...        ...     ...      ...\n",
       " 2023-11-24  11.4167  11.4621  11.38780  11.38830      3.935   4.047   -0.112\n",
       " 2023-11-27  11.4435  11.4585  11.41926  11.42136      3.935   4.047   -0.112\n",
       " \n",
       " [236 rows x 7 columns],\n",
       " 'EURTHB:CUR':                  Open       High        Low      Close  Euro Area  Thailand  \\\n",
       " Date                                                                          \n",
       " 2023-01-02  37.000600  37.064172  36.728401  36.826548      2.162    1.4478   \n",
       " 2023-01-03  36.815886  36.888399  36.055704  36.225510      2.172    1.4542   \n",
       " ...               ...        ...        ...        ...        ...       ...   \n",
       " 2023-11-24  38.400366  38.876348  38.321574  38.603731      3.935    2.6500   \n",
       " 2023-11-27  38.698965  38.791320  38.346750  38.451834      3.935    2.6500   \n",
       " \n",
       "             IR_Diff  \n",
       " Date                 \n",
       " 2023-01-02   0.7142  \n",
       " 2023-01-03   0.7178  \n",
       " ...             ...  \n",
       " 2023-11-24   1.2850  \n",
       " 2023-11-27   1.2850  \n",
       " \n",
       " [236 rows x 7 columns],\n",
       " 'EURTRY:CUR':                  Open       High        Low      Close  Euro Area  Turkey  \\\n",
       " Date                                                                        \n",
       " 2023-01-19  20.235159  20.380897  20.061580  20.309070      2.393     9.0   \n",
       " 2023-01-20  20.316790  20.462591  20.103120  20.361700      2.417     9.0   \n",
       " ...               ...        ...        ...        ...        ...     ...   \n",
       " 2023-11-24  31.343072  31.661397  31.198641  31.570610      3.935    40.0   \n",
       " 2023-11-27  31.559066  31.680356  31.348195  31.653217      3.935    40.0   \n",
       " \n",
       "             IR_Diff  \n",
       " Date                 \n",
       " 2023-01-19   -6.607  \n",
       " 2023-01-20   -6.583  \n",
       " ...             ...  \n",
       " 2023-11-24  -36.065  \n",
       " 2023-11-27  -36.065  \n",
       " \n",
       " [223 rows x 7 columns],\n",
       " 'EURUAH:CUR':                  Open       High        Low      Close  Euro Area  Ukraine  \\\n",
       " Date                                                                         \n",
       " 2023-01-26  39.905240  40.359704  39.660288  40.180410      2.468     25.0   \n",
       " 2023-01-27  40.215681  40.258060  39.612760  40.136178      2.492     25.0   \n",
       " ...               ...        ...        ...        ...        ...      ...   \n",
       " 2023-11-24  39.250800  39.982096  39.160335  39.325705      3.935     16.0   \n",
       " 2023-11-27  39.420675  39.590158  39.384625  39.550098      3.935     16.0   \n",
       " \n",
       "             IR_Diff  \n",
       " Date                 \n",
       " 2023-01-26  -22.532  \n",
       " 2023-01-27  -22.508  \n",
       " ...             ...  \n",
       " 2023-11-24  -12.065  \n",
       " 2023-11-27  -12.065  \n",
       " \n",
       " [218 rows x 7 columns],\n",
       " 'EURUSD:CUR':               Open    High     Low    Close  Euro Area  United States  IR_Diff\n",
       " Date                                                                          \n",
       " 2023-01-02  1.0700  1.0706  1.0649  1.06620      2.162         4.7672  -2.6052\n",
       " 2023-01-03  1.0662  1.0683  1.0518  1.05460      2.172         4.7672  -2.5952\n",
       " ...            ...     ...     ...      ...        ...            ...      ...\n",
       " 2023-11-24  1.0903  1.0948  1.0893  1.09390      3.935         5.6481  -1.7131\n",
       " 2023-11-27  1.0935  1.0958  1.0925  1.09487      3.935         5.6481  -1.7131\n",
       " \n",
       " [236 rows x 7 columns],\n",
       " 'EURZAR:CUR':                Open      High      Low     Close  Euro Area  South Africa  \\\n",
       " Date                                                                        \n",
       " 2023-01-02  18.1085  18.20550  18.0681  18.08640      2.162         7.258   \n",
       " 2023-01-03  18.0890  18.13630  17.8916  17.92650      2.172         7.258   \n",
       " ...             ...       ...      ...       ...        ...           ...   \n",
       " 2023-11-24  20.3146  20.69549  20.3146  20.51670      3.935         8.367   \n",
       " 2023-11-27  20.3146  20.62109  20.3146  20.60969      3.935         8.367   \n",
       " \n",
       "             IR_Diff  \n",
       " Date                 \n",
       " 2023-01-02   -5.096  \n",
       " 2023-01-03   -5.086  \n",
       " ...             ...  \n",
       " 2023-11-24   -4.432  \n",
       " 2023-11-27   -4.432  \n",
       " \n",
       " [236 rows x 7 columns],\n",
       " 'GBPUSD:CUR':               Open    High     Low    Close  United Kingdom  United States  \\\n",
       " Date                                                                         \n",
       " 2023-01-02  1.2095  1.2098  1.2033  1.20450          3.8740         4.7672   \n",
       " 2023-01-03  1.2044  1.2084  1.1898  1.19660          3.8740         4.7672   \n",
       " ...            ...     ...     ...      ...             ...            ...   \n",
       " 2023-11-24  1.2530  1.2615  1.2521  1.26030          5.3646         5.6481   \n",
       " 2023-11-27  1.2592  1.2627  1.2588  1.26165          5.3646         5.6481   \n",
       " \n",
       "             IR_Diff  \n",
       " Date                 \n",
       " 2023-01-02  -0.8932  \n",
       " 2023-01-03  -0.8932  \n",
       " ...             ...  \n",
       " 2023-11-24  -0.2835  \n",
       " 2023-11-27  -0.2835  \n",
       " \n",
       " [236 rows x 7 columns],\n",
       " 'USDBRL:CUR':               Open    High     Low   Close  United States  Brazil  IR_Diff\n",
       " Date                                                                      \n",
       " 2023-01-31  5.1162  5.1410  5.0692  5.0731         4.8135   13.75  -8.9365\n",
       " 2023-02-01  5.0731  5.1120  5.0418  5.0547         4.8135   13.75  -8.9365\n",
       " ...            ...     ...     ...     ...            ...     ...      ...\n",
       " 2023-11-23  4.9072  4.9085  4.8853  4.9039         5.6412   12.25  -6.6088\n",
       " 2023-11-24  4.9075  4.9078  4.8815  4.9020         5.6481   12.25  -6.6019\n",
       " \n",
       " [219 rows x 7 columns],\n",
       " 'USDCAD:CUR':               Open    High     Low    Close  United States  Canada  IR_Diff\n",
       " Date                                                                       \n",
       " 2023-01-02  1.3549  1.3583  1.3522  1.35720         4.7672  4.9350  -0.1678\n",
       " 2023-01-03  1.3573  1.3685  1.3521  1.36690         4.7672  4.9575  -0.1903\n",
       " ...            ...     ...     ...      ...            ...     ...      ...\n",
       " 2023-11-24  1.3692  1.3711  1.3591  1.36350         5.6481  5.4950   0.1531\n",
       " 2023-11-27  1.3635  1.3661  1.3622  1.36309         5.6481  5.4950   0.1531\n",
       " \n",
       " [236 rows x 7 columns],\n",
       " 'USDCHF:CUR':               Open    High     Low    Close  United States  Switzerland  \\\n",
       " Date                                                                      \n",
       " 2023-01-02  0.9243  0.9259  0.9229  0.92500         4.7672       -0.753   \n",
       " 2023-01-03  0.9250  0.9398  0.9227  0.93580         4.7672       -0.753   \n",
       " ...            ...     ...     ...      ...            ...          ...   \n",
       " 2023-11-24  0.8840  0.8848  0.8809  0.88240         5.6481       -0.753   \n",
       " 2023-11-27  0.8820  0.8828  0.8800  0.88072         5.6481       -0.753   \n",
       " \n",
       "             IR_Diff  \n",
       " Date                 \n",
       " 2023-01-02   5.5202  \n",
       " 2023-01-03   5.5202  \n",
       " ...             ...  \n",
       " 2023-11-24   6.4011  \n",
       " 2023-11-27   6.4011  \n",
       " \n",
       " [236 rows x 7 columns],\n",
       " 'USDCNY:CUR':               Open    High     Low    Close  United States   China  IR_Diff\n",
       " Date                                                                       \n",
       " 2023-01-02  6.9229  6.9321  6.9125  6.92660         4.7672  2.5000   2.2672\n",
       " 2023-01-03  6.9261  6.9394  6.8781  6.92330         4.7672  3.2833   1.4839\n",
       " ...            ...     ...     ...      ...            ...     ...      ...\n",
       " 2023-11-24  7.1496  7.1609  7.1420  7.14840         5.6481  2.9676   2.6805\n",
       " 2023-11-27  7.1484  7.1644  7.1433  7.15287         5.6481  2.8500   2.7981\n",
       " \n",
       " [236 rows x 7 columns],\n",
       " 'USDCZK:CUR':               Open    High     Low    Close  United States  Czech Republic  \\\n",
       " Date                                                                         \n",
       " 2023-01-02  22.554  22.682  22.534  22.6220         4.7672            0.17   \n",
       " 2023-01-03  22.627  22.949  22.584  22.7900         4.7672            0.17   \n",
       " ...            ...     ...     ...      ...            ...             ...   \n",
       " 2023-11-24  22.376  22.393  22.226  22.2920         5.6481            0.17   \n",
       " 2023-11-27  22.281  22.337  22.264  22.3036         5.6481            0.17   \n",
       " \n",
       "             IR_Diff  \n",
       " Date                 \n",
       " 2023-01-02   4.5972  \n",
       " 2023-01-03   4.5972  \n",
       " ...             ...  \n",
       " 2023-11-24   5.4781  \n",
       " 2023-11-27   5.4781  \n",
       " \n",
       " [236 rows x 7 columns],\n",
       " 'USDHUF:CUR':               Open    High     Low    Close  United States  Hungary  IR_Diff\n",
       " Date                                                                        \n",
       " 2023-01-02  373.15  377.72  372.86  376.030         4.7672    16.21 -11.4428\n",
       " 2023-01-03  376.18  383.36  375.32  379.020         4.7672    16.21 -11.4428\n",
       " ...            ...     ...     ...      ...            ...      ...      ...\n",
       " 2023-11-24  347.87  348.63  346.39  347.560         5.6481    10.78  -5.1319\n",
       " 2023-11-27  347.56  348.34  346.43  347.058         5.6481    10.78  -5.1319\n",
       " \n",
       " [236 rows x 7 columns],\n",
       " 'USDIDR:CUR':                Open     High      Low    Close  United States  Indonesia  \\\n",
       " Date                                                                       \n",
       " 2023-01-02  15480.0  15582.0  15480.0  15570.0         4.7672     6.6137   \n",
       " 2023-01-03  15590.0  15610.0  15540.0  15595.0         4.7672     6.6100   \n",
       " ...             ...      ...      ...      ...            ...        ...   \n",
       " 2023-11-24  15540.0  15605.0  15540.0  15560.0         5.6481     6.9535   \n",
       " 2023-11-27  15530.0  15555.0  15470.0  15490.0         5.6481     6.9535   \n",
       " \n",
       "             IR_Diff  \n",
       " Date                 \n",
       " 2023-01-02  -1.8465  \n",
       " 2023-01-03  -1.8428  \n",
       " ...             ...  \n",
       " 2023-11-24  -1.3054  \n",
       " 2023-11-27  -1.3054  \n",
       " \n",
       " [236 rows x 7 columns],\n",
       " 'USDINR:CUR':               Open    High      Low   Close  United States  India  IR_Diff\n",
       " Date                                                                      \n",
       " 2023-01-02  82.660  82.780  82.5575  82.745         4.7672   6.86  -2.0928\n",
       " 2023-01-03  82.674  83.011  82.6410  82.774         4.7672   6.85  -2.0828\n",
       " ...            ...     ...      ...     ...            ...    ...      ...\n",
       " 2023-11-24  83.345  83.386  83.3211  83.340         5.6481   7.24  -1.5919\n",
       " 2023-11-27  83.294  83.404  83.2850  83.379         5.6481   7.24  -1.5919\n",
       " \n",
       " [236 rows x 7 columns],\n",
       " 'USDJPY:CUR':               Open    High     Low    Close  United States   Japan  IR_Diff\n",
       " Date                                                                       \n",
       " 2023-01-04  131.01  132.71  129.91  132.620         4.7818  0.0636   4.7182\n",
       " 2023-01-05  132.62  134.05  131.67  133.400         4.7884  0.0636   4.7248\n",
       " ...            ...     ...     ...      ...            ...     ...      ...\n",
       " 2023-11-24  149.56  149.71  149.18  149.440         5.6481  0.0700   5.5781\n",
       " 2023-11-27  149.43  149.67  148.76  149.013         5.6481  0.0700   5.5781\n",
       " \n",
       " [234 rows x 7 columns],\n",
       " 'USDKRW:CUR':                Open     High      Low    Close  United States  South Korea  \\\n",
       " Date                                                                         \n",
       " 2023-01-02  1260.94  1274.11  1260.36  1269.03         4.7672         4.03   \n",
       " 2023-01-03  1269.03  1280.39  1263.91  1279.10         4.7672         4.00   \n",
       " ...             ...      ...      ...      ...            ...          ...   \n",
       " 2023-11-24  1300.20  1308.23  1295.90  1302.97         5.6481         4.00   \n",
       " 2023-11-27  1301.52  1308.36  1299.90  1301.40         5.6481         4.00   \n",
       " \n",
       "             IR_Diff  \n",
       " Date                 \n",
       " 2023-01-02   0.7372  \n",
       " 2023-01-03   0.7672  \n",
       " ...             ...  \n",
       " 2023-11-24   1.6481  \n",
       " 2023-11-27   1.6481  \n",
       " \n",
       " [236 rows x 7 columns],\n",
       " 'USDMXN:CUR':                Open     High       Low    Close  United States  Mexico  \\\n",
       " Date                                                                     \n",
       " 2023-01-31  18.7633  18.8451  18.72100  18.8200         4.8135   10.78   \n",
       " 2023-02-01  18.8305  18.8671  18.58300  18.5999         4.8135   10.78   \n",
       " ...             ...      ...       ...      ...            ...     ...   \n",
       " 2023-11-24  17.1790  17.1876  17.07920  17.1000         5.6481   11.50   \n",
       " 2023-11-27  17.1050  17.1221  17.06609  17.0676         5.6481   11.50   \n",
       " \n",
       "             IR_Diff  \n",
       " Date                 \n",
       " 2023-01-31  -5.9665  \n",
       " 2023-02-01  -5.9665  \n",
       " ...             ...  \n",
       " 2023-11-24  -5.8519  \n",
       " 2023-11-27  -5.8519  \n",
       " \n",
       " [215 rows x 7 columns],\n",
       " 'USDMYR:CUR':              Open   High    Low  Close  United States  Malaysia  IR_Diff\n",
       " Date                                                                    \n",
       " 2023-01-02  4.400  4.400  4.400  4.400         4.7672      3.67   1.0972\n",
       " 2023-01-03  4.395  4.402  4.385  4.402         4.7672      3.67   1.0972\n",
       " ...           ...    ...    ...    ...            ...       ...      ...\n",
       " 2023-11-24  4.680  4.686  4.675  4.683         5.6481      3.51   2.1381\n",
       " 2023-11-27  4.675  4.680  4.673  4.675         5.6481      3.51   2.1381\n",
       " \n",
       " [236 rows x 7 columns],\n",
       " 'USDPLN:CUR':               Open    High      Low    Close  United States  Poland  IR_Diff\n",
       " Date                                                                        \n",
       " 2023-01-02  4.3779  4.3916  4.36660  4.37060         4.7672    6.91  -2.1428\n",
       " 2023-01-03  4.3656  4.4548  4.36240  4.43020         4.7672    6.91  -2.1428\n",
       " ...            ...     ...      ...      ...            ...     ...      ...\n",
       " 2023-11-24  4.0026  4.0143  3.98330  3.98710         5.6481    5.73  -0.0819\n",
       " 2023-11-27  3.9887  3.9964  3.97753  3.97912         5.6481    5.73  -0.0819\n",
       " \n",
       " [236 rows x 7 columns],\n",
       " 'USDRON:CUR':               Open    High     Low   Close  United States  Romania  IR_Diff\n",
       " Date                                                                       \n",
       " 2023-01-02  4.6160  4.6282  4.6138  4.6144         4.7672     7.42  -2.6528\n",
       " 2023-01-03  4.6135  4.6865  4.6130  4.6724         4.7672     7.41  -2.6428\n",
       " ...            ...     ...     ...     ...            ...      ...      ...\n",
       " 2023-11-24  4.5548  4.5599  4.5343  4.5358         5.6481     6.10  -0.4519\n",
       " 2023-11-27  4.5376  4.5454  4.5303  4.5363         5.6481     6.10  -0.4519\n",
       " \n",
       " [236 rows x 7 columns],\n",
       " 'USDRUB:CUR':                Open     High     Low    Close  United States  Russia  IR_Diff\n",
       " Date                                                                         \n",
       " 2023-01-02  75.0000  75.9955  68.375  70.9955         4.7672   10.39  -5.6228\n",
       " 2023-01-03  69.0000  73.2915  69.000  72.3455         4.7672   10.39  -5.6228\n",
       " ...             ...      ...     ...      ...            ...     ...      ...\n",
       " 2023-11-24  88.5355  89.8955  87.797  89.2955         5.6481    9.34  -3.6919\n",
       " 2023-11-27  88.9100  89.0025  88.175  88.6050         5.6481    9.34  -3.6919\n",
       " \n",
       " [236 rows x 7 columns],\n",
       " 'USDSAR:CUR':               Open    High     Low   Close  United States  Saudi Arabia  \\\n",
       " Date                                                                      \n",
       " 2023-01-31  3.7538  3.7538  3.7520  3.7528         4.8135        5.3813   \n",
       " 2023-02-01  3.7528  3.7528  3.7517  3.7524         4.8135        5.3813   \n",
       " ...            ...     ...     ...     ...            ...           ...   \n",
       " 2023-11-26  3.7480  3.7506  3.7480  3.7505         5.6481        6.2190   \n",
       " 2023-11-27  3.7505  3.7506  3.7480  3.7505         5.6481        6.2190   \n",
       " \n",
       "             IR_Diff  \n",
       " Date                 \n",
       " 2023-01-31  -0.5678  \n",
       " 2023-02-01  -0.5678  \n",
       " ...             ...  \n",
       " 2023-11-26  -0.5709  \n",
       " 2023-11-27  -0.5709  \n",
       " \n",
       " [301 rows x 7 columns],\n",
       " 'USDSEK:CUR':                Open     High      Low     Close  United States  Sweden  \\\n",
       " Date                                                                     \n",
       " 2023-01-02  10.4041  10.4767  10.3898  10.45970         4.7672   2.701   \n",
       " 2023-01-03  10.4607  10.5843  10.4324  10.56320         4.7672   2.702   \n",
       " ...             ...      ...      ...       ...            ...     ...   \n",
       " 2023-11-24  10.4659  10.5060  10.4257  10.43930         5.6481   4.047   \n",
       " 2023-11-27  10.4381  10.4813  10.4122  10.43579         5.6481   4.047   \n",
       " \n",
       "             IR_Diff  \n",
       " Date                 \n",
       " 2023-01-02   2.0662  \n",
       " 2023-01-03   2.0652  \n",
       " ...             ...  \n",
       " 2023-11-24   1.6011  \n",
       " 2023-11-27   1.6011  \n",
       " \n",
       " [236 rows x 7 columns],\n",
       " 'USDTHB:CUR':              Open   High    Low  Close  United States  Thailand  IR_Diff\n",
       " Date                                                                    \n",
       " 2023-01-02  34.58  34.62  34.49  34.54         4.7672    1.4478   3.3194\n",
       " 2023-01-03  34.53  34.53  34.28  34.35         4.7672    1.4542   3.3130\n",
       " ...           ...    ...    ...    ...            ...       ...      ...\n",
       " 2023-11-24  35.22  35.51  35.18  35.29         5.6481    2.6500   2.9981\n",
       " 2023-11-27  35.39  35.40  35.10  35.12         5.6481    2.6500   2.9981\n",
       " \n",
       " [236 rows x 7 columns],\n",
       " 'USDTRY:CUR':                Open      High     Low     Close  United States  Turkey  \\\n",
       " Date                                                                     \n",
       " 2023-01-19  18.7571  18.80330  18.610  18.75780         4.8077     9.0   \n",
       " 2023-01-20  18.7580  18.84390  18.614  18.75790         4.8155     9.0   \n",
       " ...             ...       ...     ...       ...            ...     ...   \n",
       " 2023-11-24  28.7472  28.91980  28.641  28.86060         5.6481    40.0   \n",
       " 2023-11-27  28.8606  28.91071  28.694  28.91048         5.6481    40.0   \n",
       " \n",
       "             IR_Diff  \n",
       " Date                 \n",
       " 2023-01-19  -4.1923  \n",
       " 2023-01-20  -4.1845  \n",
       " ...             ...  \n",
       " 2023-11-24 -34.3519  \n",
       " 2023-11-27 -34.3519  \n",
       " \n",
       " [223 rows x 7 columns],\n",
       " 'USDUAH:CUR':               Open    High    Low    Close  United States  Ukraine  IR_Diff\n",
       " Date                                                                       \n",
       " 2023-01-26  36.560  36.929  36.56  36.9000         4.8145     25.0 -20.1855\n",
       " 2023-01-27  36.929  36.934  36.56  36.9340         4.8252     25.0 -20.1748\n",
       " ...            ...     ...    ...      ...            ...      ...      ...\n",
       " 2023-11-24  36.000  36.520  35.95  35.9500         5.6481     16.0 -10.3519\n",
       " 2023-11-27  36.050  36.129  36.05  36.1231         5.6481     16.0 -10.3519\n",
       " \n",
       " [218 rows x 7 columns],\n",
       " 'USDZAR:CUR':                Open      High      Low     Close  United States  South Africa  \\\n",
       " Date                                                                            \n",
       " 2023-01-02  17.0044  17.03060  16.9415  16.97430         4.7672         7.258   \n",
       " 2023-01-03  16.9674  17.14600  16.9206  17.01790         4.7672         7.258   \n",
       " ...             ...       ...      ...       ...            ...           ...   \n",
       " 2023-11-24  18.7971  18.95470  18.7458  18.82040         5.6481         8.367   \n",
       " 2023-11-27  18.8276  18.84648  18.7596  18.82511         5.6481         8.367   \n",
       " \n",
       "             IR_Diff  \n",
       " Date                 \n",
       " 2023-01-02  -2.4908  \n",
       " 2023-01-03  -2.4908  \n",
       " ...             ...  \n",
       " 2023-11-24  -2.7189  \n",
       " 2023-11-27  -2.7189  \n",
       " \n",
       " [236 rows x 7 columns],\n",
       " 'EURUZS:CUR':                     Open          High           Low         Close  Euro Area  \\\n",
       " Date                                                                            \n",
       " 2023-01-26  12320.513635  12366.185358  12225.804480  12320.925278      2.468   \n",
       " 2023-01-27  12322.056780  12349.656400  12240.711230  12306.877500      2.492   \n",
       " ...                  ...           ...           ...           ...        ...   \n",
       " 2023-11-24  13393.277909  13460.566000  13350.242940  13445.299924      3.935   \n",
       " 2023-11-27  13440.383460  13468.653128  13406.690225  13435.773846      3.935   \n",
       " \n",
       "             Uzbekistan  IR_Diff  \n",
       " Date                             \n",
       " 2023-01-26        15.0  -12.532  \n",
       " 2023-01-27        15.0  -12.508  \n",
       " ...                ...      ...  \n",
       " 2023-11-24        14.0  -10.065  \n",
       " 2023-11-27        14.0  -10.065  \n",
       " \n",
       " [218 rows x 7 columns],\n",
       " 'USDUZS:CUR':                 Open      High       Low     Close  United States  Uzbekistan  \\\n",
       " Date                                                                            \n",
       " 2023-01-26  11287.69  11315.02  11270.10  11315.02         4.8145        15.0   \n",
       " 2023-01-27  11315.02  11329.96  11297.38  11325.00         4.8252        15.0   \n",
       " ...              ...       ...       ...       ...            ...         ...   \n",
       " 2023-11-24  12284.03  12295.00  12255.80  12291.16         5.6481        14.0   \n",
       " 2023-11-27  12291.16  12291.16  12271.57  12271.57         5.6481        14.0   \n",
       " \n",
       "             IR_Diff  \n",
       " Date                 \n",
       " 2023-01-26 -10.1855  \n",
       " 2023-01-27 -10.1748  \n",
       " ...             ...  \n",
       " 2023-11-24  -8.3519  \n",
       " 2023-11-27  -8.3519  \n",
       " \n",
       " [220 rows x 7 columns],\n",
       " 'EURKZT:CUR':                   Open        High         Low       Close  Euro Area  \\\n",
       " Date                                                                    \n",
       " 2023-01-13  501.362400  502.707420  497.404700  500.253600      2.328   \n",
       " 2023-01-16  500.427568  503.843947  498.841200  501.105280      2.334   \n",
       " ...                ...         ...         ...         ...        ...   \n",
       " 2023-11-24  502.453852  508.633132  500.239239  502.351697      3.935   \n",
       " 2023-11-27  504.365940  506.467802  499.054000  502.359202      3.935   \n",
       " \n",
       "             Kazakhstan  IR_Diff  \n",
       " Date                             \n",
       " 2023-01-13       16.75  -14.422  \n",
       " 2023-01-16       16.75  -14.416  \n",
       " ...                ...      ...  \n",
       " 2023-11-24       15.75  -11.815  \n",
       " 2023-11-27       15.75  -11.815  \n",
       " \n",
       " [227 rows x 7 columns],\n",
       " 'USDKZT:CUR':               Open    High     Low   Close  United States  Kazakhstan  IR_Diff\n",
       " Date                                                                          \n",
       " 2023-01-13  462.00  462.60  461.50  462.00         4.7924       16.75 -11.9576\n",
       " 2023-01-16  461.99  463.39  461.89  463.30         4.7924       16.75 -11.9576\n",
       " ...            ...     ...     ...     ...            ...         ...      ...\n",
       " 2023-11-24  460.84  464.59  459.23  459.23         5.6481       15.75 -10.1019\n",
       " 2023-11-27  461.24  462.19  456.80  458.83         5.6481       15.75 -10.1019\n",
       " \n",
       " [227 rows x 7 columns]}"
      ]
     },
     "execution_count": 28,
     "metadata": {},
     "output_type": "execute_result"
    }
   ],
   "source": [
    "currency_pairs_final"
   ]
  },
  {
   "cell_type": "markdown",
   "id": "e16fa484",
   "metadata": {},
   "source": [
    "## 4. Puting the data inside the AWS RDS"
   ]
  },
  {
   "cell_type": "code",
   "execution_count": 23,
   "id": "f477de70",
   "metadata": {},
   "outputs": [],
   "source": [
    "import pymysql\n",
    "\n",
    "host = 'quant-database.cqbsb1eatt20.eu-central-1.rds.amazonaws.com'\n",
    "user = 'quant_db_admin'\n",
    "password = 'kr!JgKLQ!8SRs(cw'\n",
    "db = ''\n",
    "\n",
    "connection = pymysql.connect(host=host, user=user, password=password, database=db)\n",
    "\n",
    "cur = connection.cursor()"
   ]
  },
  {
   "cell_type": "code",
   "execution_count": 24,
   "id": "7c70a719",
   "metadata": {},
   "outputs": [
    {
     "data": {
      "text/plain": [
       "(('brano_db_test',),\n",
       " ('information_schema',),\n",
       " ('model_input_data',),\n",
       " ('mysql',),\n",
       " ('new_database',),\n",
       " ('ohlc',),\n",
       " ('performance_schema',),\n",
       " ('portfolio_calculations',),\n",
       " ('portfolio_weights',),\n",
       " ('quant_db',),\n",
       " ('sys',))"
      ]
     },
     "execution_count": 24,
     "metadata": {},
     "output_type": "execute_result"
    }
   ],
   "source": [
    "sql = '''show databases;'''\n",
    "cur.execute(sql)\n",
    "cur.fetchall()"
   ]
  },
  {
   "cell_type": "code",
   "execution_count": 25,
   "id": "4d453862",
   "metadata": {},
   "outputs": [],
   "source": [
    "# sql = '''CREATE DATABASE ohlc;'''\n",
    "# cur.execute(sql)"
   ]
  },
  {
   "cell_type": "code",
   "execution_count": 26,
   "id": "85d13cbf",
   "metadata": {},
   "outputs": [
    {
     "data": {
      "text/plain": [
       "0"
      ]
     },
     "execution_count": 26,
     "metadata": {},
     "output_type": "execute_result"
    }
   ],
   "source": [
    "sql = '''use ohlc;'''\n",
    "cur.execute(sql)"
   ]
  },
  {
   "cell_type": "code",
   "execution_count": 28,
   "id": "04222099",
   "metadata": {},
   "outputs": [
    {
     "data": {
      "text/plain": [
       "(('CO1',),\n",
       " ('CRYTR',),\n",
       " ('HG1',),\n",
       " ('JBP',),\n",
       " ('LB1',),\n",
       " ('LMAHDS03',),\n",
       " ('LMZSDS03',),\n",
       " ('LN1',),\n",
       " ('NG1',),\n",
       " ('NGEU',),\n",
       " ('POL',),\n",
       " ('PVC',),\n",
       " ('PYL',),\n",
       " ('SPGSCITR',),\n",
       " ('XAGUSD',),\n",
       " ('XAUUSD',),\n",
       " ('XB1',),\n",
       " ('XPTUSD',))"
      ]
     },
     "execution_count": 28,
     "metadata": {},
     "output_type": "execute_result"
    }
   ],
   "source": [
    "sql = '''show tables'''\n",
    "cur.execute(sql)\n",
    "cur.fetchall()"
   ]
  },
  {
   "cell_type": "code",
   "execution_count": 36,
   "id": "89fc322d",
   "metadata": {
    "scrolled": true
   },
   "outputs": [
    {
     "data": {
      "text/plain": [
       "\"for currency in currency_pairs_final.keys():  \\n    df_shit = currency_pairs_final[currency].copy()\\n    \\n    plt.figure(figsize=(12, 8))\\n    plt.plot(df_shit['Close'])\\n    plt.title(currency)\\n    plt.xlabel('Date')\\n    plt.ylabel(i)\""
      ]
     },
     "execution_count": 36,
     "metadata": {},
     "output_type": "execute_result"
    }
   ],
   "source": [
    "\"\"\"for currency in currency_pairs_final.keys():  \n",
    "    df_shit = currency_pairs_final[currency].copy()\n",
    "    \n",
    "    plt.figure(figsize=(12, 8))\n",
    "    plt.plot(df_shit['Close'])\n",
    "    plt.title(currency)\n",
    "    plt.xlabel('Date')\n",
    "    plt.ylabel(i)\"\"\""
   ]
  },
  {
   "cell_type": "markdown",
   "id": "0311991e",
   "metadata": {},
   "source": [
    "### 4.2. Inputing the commodities"
   ]
  },
  {
   "cell_type": "code",
   "execution_count": 90,
   "id": "d80db776",
   "metadata": {},
   "outputs": [],
   "source": [
    "import pymysql\n",
    "\n",
    "host = 'quant-database.cqbsb1eatt20.eu-central-1.rds.amazonaws.com'\n",
    "user = 'quant_db_admin'\n",
    "password = 'kr!JgKLQ!8SRs(cw'\n",
    "db = ''\n",
    "\n",
    "connection = pymysql.connect(host=host, user=user, password=password, database=db)\n",
    "\n",
    "cur = connection.cursor()"
   ]
  },
  {
   "cell_type": "code",
   "execution_count": 91,
   "id": "0912c4dd",
   "metadata": {},
   "outputs": [
    {
     "data": {
      "text/plain": [
       "(('brano_db_test',),\n",
       " ('information_schema',),\n",
       " ('model_input_data',),\n",
       " ('mysql',),\n",
       " ('new_database',),\n",
       " ('ohlc',),\n",
       " ('performance_schema',),\n",
       " ('portfolio_calculations',),\n",
       " ('portfolio_weights',),\n",
       " ('quant_db',),\n",
       " ('sys',))"
      ]
     },
     "execution_count": 91,
     "metadata": {},
     "output_type": "execute_result"
    }
   ],
   "source": [
    "sql = '''show databases;'''\n",
    "cur.execute(sql)\n",
    "cur.fetchall()"
   ]
  },
  {
   "cell_type": "code",
   "execution_count": 75,
   "id": "a6ebe8f4",
   "metadata": {},
   "outputs": [],
   "source": [
    "# sql = '''CREATE DATABASE ohlc;'''\n",
    "# cur.execute(sql)"
   ]
  },
  {
   "cell_type": "code",
   "execution_count": 76,
   "id": "664abe58",
   "metadata": {},
   "outputs": [
    {
     "data": {
      "text/plain": [
       "0"
      ]
     },
     "execution_count": 76,
     "metadata": {},
     "output_type": "execute_result"
    }
   ],
   "source": [
    "sql = '''use ohlc;'''\n",
    "cur.execute(sql)"
   ]
  },
  {
   "cell_type": "code",
   "execution_count": 96,
   "id": "b2115336",
   "metadata": {},
   "outputs": [
    {
     "data": {
      "text/plain": [
       "(('CO1',),\n",
       " ('CRYTR',),\n",
       " ('HG1',),\n",
       " ('JBP',),\n",
       " ('LB1',),\n",
       " ('LMAHDS03',),\n",
       " ('LMZSDS03',),\n",
       " ('LN1',),\n",
       " ('NG1',),\n",
       " ('NGEU',),\n",
       " ('POL',),\n",
       " ('PVC',),\n",
       " ('PYL',),\n",
       " ('SPGSCITR',),\n",
       " ('XAGUSD',),\n",
       " ('XAUUSD',),\n",
       " ('XB1',),\n",
       " ('XPTUSD',))"
      ]
     },
     "execution_count": 96,
     "metadata": {},
     "output_type": "execute_result"
    }
   ],
   "source": [
    "sql = '''show tables'''\n",
    "cur.execute(sql)\n",
    "cur.fetchall()"
   ]
  },
  {
   "cell_type": "code",
   "execution_count": 78,
   "id": "12c784f3",
   "metadata": {},
   "outputs": [],
   "source": [
    "sql_creation = '''CREATE TABLE {} (\n",
    "  Date DATE,\n",
    "  Open FLOAT,\n",
    "  High FLOAT,\n",
    "  Low FLOAT,\n",
    "  Close FLOAT,\n",
    "  {} FLOAT,\n",
    "  {} FLOAT,\n",
    "  IR_Diff FLOAT\n",
    ");\n",
    "'''"
   ]
  },
  {
   "cell_type": "code",
   "execution_count": 80,
   "id": "b89d28d3",
   "metadata": {},
   "outputs": [],
   "source": [
    "sql_insertion = '''INSERT INTO {} VALUES (%s, %s, %s, %s, %s, %s, %s, %s)'''"
   ]
  },
  {
   "cell_type": "code",
   "execution_count": 81,
   "id": "aa6db009",
   "metadata": {
    "scrolled": true
   },
   "outputs": [],
   "source": [
    "for key, value in commodities_final.items():\n",
    "    df_append = value.reset_index()\n",
    "    base_country = df_append.columns[5]\n",
    "    risk_country = df_append.columns[6]\n",
    "        \n",
    "    base_country = base_country.replace(' ', '_')\n",
    "    risk_country = risk_country.replace(' ', '_')\n",
    "    \n",
    "    database_creation_name = key.split(':')[0]\n",
    "    \n",
    "    sql_create_now = sql_creation.format(database_creation_name, base_country, risk_country)\n",
    "    sql_insert_now = sql_insertion.format(database_creation_name)\n",
    "        \n",
    "    df = commodities_final[key].reset_index()\n",
    "    val = [tuple(row) for row in df.values]\n",
    "    \n",
    "    cur.execute(sql_create_now)\n",
    "    cur.executemany(sql_insert_now, val)"
   ]
  },
  {
   "cell_type": "code",
   "execution_count": 82,
   "id": "84cd2138",
   "metadata": {},
   "outputs": [],
   "source": [
    "connection.commit()"
   ]
  },
  {
   "cell_type": "code",
   "execution_count": 83,
   "id": "813f3f73",
   "metadata": {},
   "outputs": [],
   "source": [
    "connection.close()"
   ]
  },
  {
   "cell_type": "code",
   "execution_count": 84,
   "id": "85661c51",
   "metadata": {},
   "outputs": [
    {
     "name": "stdout",
     "output_type": "stream",
     "text": [
      "Commodities added!\n"
     ]
    }
   ],
   "source": [
    "print('Commodities added!')"
   ]
  },
  {
   "cell_type": "markdown",
   "id": "e4056140",
   "metadata": {},
   "source": [
    "### 4.1. Inputing the currency_pairs"
   ]
  },
  {
   "cell_type": "code",
   "execution_count": 86,
   "id": "01a16fec",
   "metadata": {},
   "outputs": [],
   "source": [
    "# keys_to_keep = ['AUDUSD:CUR', 'EURAUD:CUR', 'EURBRL:CUR']\n",
    "\n",
    "# subset_dict = {key: currency_pairs_final[key] for key in keys_to_keep}"
   ]
  },
  {
   "cell_type": "code",
   "execution_count": 92,
   "id": "eb4669de",
   "metadata": {},
   "outputs": [],
   "source": [
    "import pymysql\n",
    "\n",
    "host = 'quant-database.cqbsb1eatt20.eu-central-1.rds.amazonaws.com'\n",
    "user = 'quant_db_admin'\n",
    "password = 'kr!JgKLQ!8SRs(cw'\n",
    "db = ''\n",
    "\n",
    "connection = pymysql.connect(host=host, user=user, password=password, database=db)\n",
    "\n",
    "cur = connection.cursor()"
   ]
  },
  {
   "cell_type": "code",
   "execution_count": 93,
   "id": "ecdb4c8e",
   "metadata": {},
   "outputs": [
    {
     "data": {
      "text/plain": [
       "(('brano_db_test',),\n",
       " ('information_schema',),\n",
       " ('model_input_data',),\n",
       " ('mysql',),\n",
       " ('new_database',),\n",
       " ('ohlc',),\n",
       " ('performance_schema',),\n",
       " ('portfolio_calculations',),\n",
       " ('portfolio_weights',),\n",
       " ('quant_db',),\n",
       " ('sys',))"
      ]
     },
     "execution_count": 93,
     "metadata": {},
     "output_type": "execute_result"
    }
   ],
   "source": [
    "sql = '''show databases;'''\n",
    "cur.execute(sql)\n",
    "cur.fetchall()"
   ]
  },
  {
   "cell_type": "code",
   "execution_count": 94,
   "id": "64b35275",
   "metadata": {},
   "outputs": [
    {
     "data": {
      "text/plain": [
       "0"
      ]
     },
     "execution_count": 94,
     "metadata": {},
     "output_type": "execute_result"
    }
   ],
   "source": [
    "sql = '''use ohlc;'''\n",
    "cur.execute(sql)"
   ]
  },
  {
   "cell_type": "code",
   "execution_count": 95,
   "id": "8b3753e5",
   "metadata": {},
   "outputs": [
    {
     "data": {
      "text/plain": [
       "(('CO1',),\n",
       " ('CRYTR',),\n",
       " ('HG1',),\n",
       " ('JBP',),\n",
       " ('LB1',),\n",
       " ('LMAHDS03',),\n",
       " ('LMZSDS03',),\n",
       " ('LN1',),\n",
       " ('NG1',),\n",
       " ('NGEU',),\n",
       " ('POL',),\n",
       " ('PVC',),\n",
       " ('PYL',),\n",
       " ('SPGSCITR',),\n",
       " ('XAGUSD',),\n",
       " ('XAUUSD',),\n",
       " ('XB1',),\n",
       " ('XPTUSD',))"
      ]
     },
     "execution_count": 95,
     "metadata": {},
     "output_type": "execute_result"
    }
   ],
   "source": [
    "sql = '''show tables'''\n",
    "cur.execute(sql)\n",
    "cur.fetchall()"
   ]
  },
  {
   "cell_type": "code",
   "execution_count": 97,
   "id": "ca36f489",
   "metadata": {},
   "outputs": [],
   "source": [
    "sql_creation = '''CREATE TABLE {} (\n",
    "  Date DATE,\n",
    "  Open FLOAT,\n",
    "  High FLOAT,\n",
    "  Low FLOAT,\n",
    "  Close FLOAT,\n",
    "  {} FLOAT,\n",
    "  {} FLOAT,\n",
    "  IR_Diff FLOAT\n",
    ");\n",
    "'''"
   ]
  },
  {
   "cell_type": "code",
   "execution_count": 98,
   "id": "431557de",
   "metadata": {},
   "outputs": [],
   "source": [
    "sql_insertion = '''INSERT INTO {} VALUES (%s, %s, %s, %s, %s, %s, %s, %s)'''"
   ]
  },
  {
   "cell_type": "code",
   "execution_count": 99,
   "id": "5557dbdc",
   "metadata": {
    "scrolled": true
   },
   "outputs": [
    {
     "name": "stdout",
     "output_type": "stream",
     "text": [
      "AUDUSD:CUR\n",
      "EURAUD:CUR\n",
      "EURBRL:CUR\n",
      "EURCAD:CUR\n",
      "EURCHF:CUR\n",
      "EURCNY:CUR\n",
      "EURCZK:CUR\n",
      "EURGBP:CUR\n",
      "EURHUF:CUR\n",
      "EURIDR:CUR\n",
      "EURINR:CUR\n",
      "EURJPY:CUR\n",
      "EURKRW:CUR\n",
      "EURMXN:CUR\n",
      "EURMYR:CUR\n",
      "EURNZD:CUR\n",
      "EURPLN:CUR\n",
      "EURRON:CUR\n",
      "EURRUB:CUR\n",
      "EURSEK:CUR\n",
      "EURTHB:CUR\n",
      "EURTRY:CUR\n",
      "EURUAH:CUR\n",
      "EURUSD:CUR\n",
      "EURZAR:CUR\n",
      "GBPUSD:CUR\n",
      "USDBRL:CUR\n",
      "USDCAD:CUR\n",
      "USDCHF:CUR\n",
      "USDCNY:CUR\n",
      "USDCZK:CUR\n",
      "USDHUF:CUR\n",
      "USDIDR:CUR\n",
      "USDINR:CUR\n",
      "USDJPY:CUR\n",
      "USDKRW:CUR\n",
      "USDMXN:CUR\n",
      "USDMYR:CUR\n",
      "USDPLN:CUR\n",
      "USDRON:CUR\n",
      "USDRUB:CUR\n",
      "USDSAR:CUR\n",
      "USDSEK:CUR\n",
      "USDTHB:CUR\n",
      "USDTRY:CUR\n",
      "USDUAH:CUR\n",
      "USDZAR:CUR\n",
      "EURUZS:CUR\n",
      "USDUZS:CUR\n",
      "EURKZT:CUR\n",
      "USDKZT:CUR\n"
     ]
    }
   ],
   "source": [
    "for key, value in currency_pairs_final.items():\n",
    "    df_append = value.reset_index()\n",
    "    base_country = df_append.columns[5]\n",
    "    risk_country = df_append.columns[6]\n",
    "        \n",
    "    base_country = base_country.replace(' ', '_')\n",
    "    risk_country = risk_country.replace(' ', '_')\n",
    "    \n",
    "    database_creation_name = key.split(':')[0]\n",
    "    \n",
    "    sql_create_now = sql_creation.format(database_creation_name, base_country, risk_country)\n",
    "    sql_insert_now = sql_insertion.format(database_creation_name)\n",
    "    \n",
    "    df = currency_pairs_final[key].reset_index()\n",
    "    val = [tuple(row) for row in df.values]\n",
    "    \n",
    "    cur.execute(sql_create_now)\n",
    "    cur.executemany(sql_insert_now, val)\n",
    "    print(key)"
   ]
  },
  {
   "cell_type": "code",
   "execution_count": 100,
   "id": "63fd24cb",
   "metadata": {},
   "outputs": [],
   "source": [
    "connection.commit()"
   ]
  },
  {
   "cell_type": "code",
   "execution_count": 101,
   "id": "514ae3f1",
   "metadata": {},
   "outputs": [],
   "source": [
    "connection.close()"
   ]
  },
  {
   "cell_type": "code",
   "execution_count": 102,
   "id": "b4955dee",
   "metadata": {},
   "outputs": [
    {
     "name": "stdout",
     "output_type": "stream",
     "text": [
      "Currency pairs added!\n"
     ]
    }
   ],
   "source": [
    "print('Currency pairs added!')"
   ]
  },
  {
   "cell_type": "markdown",
   "id": "0530f7db",
   "metadata": {},
   "source": [
    "### 4.3. Inputing the interest rates"
   ]
  },
  {
   "cell_type": "code",
   "execution_count": 103,
   "id": "3c081a6f",
   "metadata": {},
   "outputs": [],
   "source": [
    "import pymysql\n",
    "\n",
    "host = 'quant-database.cqbsb1eatt20.eu-central-1.rds.amazonaws.com'\n",
    "user = 'quant_db_admin'\n",
    "password = 'kr!JgKLQ!8SRs(cw'\n",
    "db = ''\n",
    "\n",
    "connection = pymysql.connect(host=host, user=user, password=password, database=db)\n",
    "\n",
    "cur = connection.cursor()"
   ]
  },
  {
   "cell_type": "code",
   "execution_count": 104,
   "id": "c82715df",
   "metadata": {},
   "outputs": [
    {
     "data": {
      "text/plain": [
       "(('brano_db_test',),\n",
       " ('information_schema',),\n",
       " ('model_input_data',),\n",
       " ('mysql',),\n",
       " ('new_database',),\n",
       " ('ohlc',),\n",
       " ('performance_schema',),\n",
       " ('portfolio_calculations',),\n",
       " ('portfolio_weights',),\n",
       " ('quant_db',),\n",
       " ('sys',))"
      ]
     },
     "execution_count": 104,
     "metadata": {},
     "output_type": "execute_result"
    }
   ],
   "source": [
    "sql = '''show databases;'''\n",
    "cur.execute(sql)\n",
    "cur.fetchall()"
   ]
  },
  {
   "cell_type": "code",
   "execution_count": 105,
   "id": "dc602386",
   "metadata": {},
   "outputs": [],
   "source": [
    "# sql = '''CREATE DATABASE ohlc;'''\n",
    "# cur.execute(sql)"
   ]
  },
  {
   "cell_type": "code",
   "execution_count": 106,
   "id": "1e617ceb",
   "metadata": {},
   "outputs": [
    {
     "data": {
      "text/plain": [
       "0"
      ]
     },
     "execution_count": 106,
     "metadata": {},
     "output_type": "execute_result"
    }
   ],
   "source": [
    "sql = '''use ohlc;'''\n",
    "cur.execute(sql)"
   ]
  },
  {
   "cell_type": "code",
   "execution_count": 109,
   "id": "602b4d4b",
   "metadata": {},
   "outputs": [
    {
     "data": {
      "text/plain": [
       "69"
      ]
     },
     "execution_count": 109,
     "metadata": {},
     "output_type": "execute_result"
    }
   ],
   "source": [
    "sql = '''show tables;'''\n",
    "cur.execute(sql)\n",
    "# cur.fetchall()"
   ]
  },
  {
   "cell_type": "code",
   "execution_count": 110,
   "id": "fefad374",
   "metadata": {},
   "outputs": [
    {
     "data": {
      "text/plain": [
       "0"
      ]
     },
     "execution_count": 110,
     "metadata": {},
     "output_type": "execute_result"
    }
   ],
   "source": [
    "sql = '''CREATE TABLE interest_rates (\n",
    "    Date DATE,\n",
    "    Kazakhstan FLOAT,\n",
    "    Ukraine FLOAT,\n",
    "    Australia FLOAT,\n",
    "    Brazil FLOAT,\n",
    "    Canada FLOAT,\n",
    "    Switzerland FLOAT,\n",
    "    China FLOAT,\n",
    "    Czech_Republic FLOAT,\n",
    "    Euro_Area FLOAT,\n",
    "    United_Kingdom FLOAT,\n",
    "    Hungary FLOAT,\n",
    "    Indonesia FLOAT,\n",
    "    Japan FLOAT,\n",
    "    South_Korea FLOAT,\n",
    "    Mexico FLOAT,\n",
    "    Malaysia FLOAT,\n",
    "    New_Zealand FLOAT,\n",
    "    Poland FLOAT,\n",
    "    Russia FLOAT,\n",
    "    Sweden FLOAT,\n",
    "    Thailand FLOAT,\n",
    "    Turkey FLOAT,\n",
    "    United_States FLOAT,\n",
    "    South_Africa FLOAT,\n",
    "    India FLOAT,\n",
    "    Romania FLOAT,\n",
    "    Saudi_Arabia FLOAT,\n",
    "    Uzbekistan FLOAT\n",
    ");\n",
    "'''\n",
    "cur.execute(sql)"
   ]
  },
  {
   "cell_type": "code",
   "execution_count": 142,
   "id": "6b079c6c",
   "metadata": {},
   "outputs": [],
   "source": [
    "combined_df.dropna(how='all', inplace=True)"
   ]
  },
  {
   "cell_type": "code",
   "execution_count": 144,
   "id": "8ebbf4dc",
   "metadata": {},
   "outputs": [],
   "source": [
    "pd.set_option('display.max_rows', 15)"
   ]
  },
  {
   "cell_type": "code",
   "execution_count": 146,
   "id": "d1db3f26",
   "metadata": {},
   "outputs": [],
   "source": [
    "df = combined_df.reset_index()\n",
    "list_of_tuples = [tuple(row) for row in df.values]\n",
    "list_of_tuples_with_none = [tuple(None if pd.isna(val) else val for val in tpl) for tpl in list_of_tuples]"
   ]
  },
  {
   "cell_type": "code",
   "execution_count": 150,
   "id": "92b7fffa",
   "metadata": {},
   "outputs": [],
   "source": [
    "sql = '''INSERT INTO interest_rates VALUES (%s, %s, %s, %s, %s, %s, %s, %s, %s, %s, %s, %s, %s, %s, %s, %s, %s, %s, %s, %s, %s, %s, %s, %s, %s, %s, %s, %s, %s)'''"
   ]
  },
  {
   "cell_type": "code",
   "execution_count": 157,
   "id": "454b027a",
   "metadata": {
    "scrolled": true
   },
   "outputs": [
    {
     "data": {
      "text/plain": [
       "12556"
      ]
     },
     "execution_count": 157,
     "metadata": {},
     "output_type": "execute_result"
    }
   ],
   "source": [
    "# import the interest ratest in a table\n",
    "cur.executemany(sql, list_of_tuples_with_none)"
   ]
  },
  {
   "cell_type": "code",
   "execution_count": 160,
   "id": "45623b3d",
   "metadata": {},
   "outputs": [],
   "source": [
    "connection.commit()"
   ]
  },
  {
   "cell_type": "code",
   "execution_count": 161,
   "id": "dffd1240",
   "metadata": {},
   "outputs": [],
   "source": [
    "connection.close()"
   ]
  }
 ],
 "metadata": {
  "kernelspec": {
   "display_name": "Python 3 (ipykernel)",
   "language": "python",
   "name": "python3"
  },
  "language_info": {
   "codemirror_mode": {
    "name": "ipython",
    "version": 3
   },
   "file_extension": ".py",
   "mimetype": "text/x-python",
   "name": "python",
   "nbconvert_exporter": "python",
   "pygments_lexer": "ipython3",
   "version": "3.11.2"
  }
 },
 "nbformat": 4,
 "nbformat_minor": 5
}
