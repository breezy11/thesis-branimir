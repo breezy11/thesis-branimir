{
 "cells": [
  {
   "cell_type": "code",
   "execution_count": null,
   "id": "initial_id",
   "metadata": {
    "collapsed": true
   },
   "outputs": [],
   "source": [
    "import ray\n",
    "from ray.rllib.algorithms.dqn import DQNConfig\n",
    "from ray.tune.registry import register_env\n",
    "from ray.rllib.env.env_context import EnvContext\n",
    "import pandas as pd\n",
    "import numpy as np\n",
    "from gym_anytrading.envs import StocksEnv\n",
    "from sklearn.preprocessing import MinMaxScaler\n",
    "import os\n",
    "\n",
    "# Initialize Ray\n",
    "ray.init(ignore_reinit_error=True)\n",
    "\n",
    "## 1. Data import and data scaling\n",
    "df_train = pd.read_csv('data/df_train.csv', index_col=0)\n",
    "df_train.index = pd.to_datetime(df_train.index)\n",
    "\n",
    "df_test = pd.read_csv('data/df_test.csv', index_col=0)\n",
    "df_test.index = pd.to_datetime(df_test.index)\n",
    "\n",
    "# Removing duplicates in index (if any)\n",
    "df_train = df_train[~df_train.index.duplicated(keep='first')]\n",
    "df_test = df_test[~df_test.index.duplicated(keep='first')]\n",
    "\n",
    "# Scaling the data\n",
    "scaler = MinMaxScaler(feature_range=(0, 1))\n",
    "df_train = pd.DataFrame(scaler.fit_transform(df_train), columns=df_train.columns, index=df_train.index)\n",
    "df_test = pd.DataFrame(scaler.transform(df_test), columns=df_test.columns, index=df_test.index)\n",
    "\n",
    "# Features to use\n",
    "features = ['rsi', 'ema', 'roc']"
   ]
  },
  {
   "cell_type": "code",
   "outputs": [],
   "source": [
    "## 2. Create the custom environment\n",
    "def add_signals(env):\n",
    "    start = env.frame_bound[0] - env.window_size\n",
    "    end = env.frame_bound[1]\n",
    "    prices = env.df.loc[:, 'Price'].to_numpy()[start:end]\n",
    "    signal_features = env.df.loc[:, features].to_numpy()[start:end]\n",
    "    return prices, signal_features\n",
    "\n",
    "class MyCustomEnv(StocksEnv):\n",
    "    _process_data = add_signals\n",
    "\n",
    "def my_env_creator(env_config: EnvContext):\n",
    "    return MyCustomEnv(df=df_train, window_size=12, frame_bound=(12, 440473))\n",
    "\n",
    "register_env(\"custom_stock_env\", my_env_creator)"
   ],
   "metadata": {
    "collapsed": false
   },
   "id": "85f46c3751534890",
   "execution_count": null
  },
  {
   "cell_type": "code",
   "outputs": [],
   "source": [
    "## 3. Build and Train with RLlib\n",
    "config = (\n",
    "    DQNConfig()\n",
    "    .environment(\"custom_stock_env\", env_config={})\n",
    "    .framework(\"torch\")  # You can change this to \"tf\" if using TensorFlow\n",
    "    .rollouts(num_rollout_workers=1)  # Can increase for distributed training\n",
    "    .training(lr=1e-3, gamma=0.99)\n",
    "    .resources(num_gpus=0)  # Change if using GPU\n",
    ")"
   ],
   "metadata": {
    "collapsed": false
   },
   "id": "c195ed211e0b3877",
   "execution_count": null
  },
  {
   "cell_type": "code",
   "outputs": [],
   "source": [
    "# Configure Ray Tune for better logging and monitoring\n",
    "tune_analysis = ray.tune.run(\n",
    "    \"DQN\",  # The name of the algorithm\n",
    "    config=config.to_dict(),  # Convert config to dict\n",
    "    storage_path=\"\",  # Custom log directory for results\n",
    "    stop={\"timesteps_total\": 50000},  # Stop after 50k timesteps\n",
    "    checkpoint_freq=10,  # Checkpoint every 10 iterations\n",
    "    checkpoint_at_end=True  # Save the final model\n",
    ")\n",
    "\n",
    "# You can now launch TensorBoard and check the logs\n",
    "# tensorboard --logdir ./ray_results"
   ],
   "metadata": {
    "collapsed": false
   },
   "id": "1b4861197e2a43ed",
   "execution_count": null
  },
  {
   "cell_type": "code",
   "outputs": [],
   "source": [],
   "metadata": {
    "collapsed": false
   },
   "id": "1396baba6296b492"
  }
 ],
 "metadata": {
  "kernelspec": {
   "display_name": "Python 3",
   "language": "python",
   "name": "python3"
  },
  "language_info": {
   "codemirror_mode": {
    "name": "ipython",
    "version": 2
   },
   "file_extension": ".py",
   "mimetype": "text/x-python",
   "name": "python",
   "nbconvert_exporter": "python",
   "pygments_lexer": "ipython2",
   "version": "2.7.6"
  }
 },
 "nbformat": 4,
 "nbformat_minor": 5
}
