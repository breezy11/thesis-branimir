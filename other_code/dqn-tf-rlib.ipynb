{
 "cells": [
  {
   "cell_type": "code",
   "outputs": [
    {
     "name": "stderr",
     "output_type": "stream",
     "text": [
      "2024-09-19 10:42:25,815\tINFO worker.py:1786 -- Started a local Ray instance.\n"
     ]
    }
   ],
   "source": [
    "import ray\n",
    "from ray.rllib.algorithms.dqn import DQNConfig\n",
    "from ray.tune.registry import register_env\n",
    "from ray.rllib.env.env_context import EnvContext\n",
    "import pandas as pd\n",
    "import numpy as np\n",
    "from gym_anytrading.envs import StocksEnv\n",
    "from sklearn.preprocessing import MinMaxScaler\n",
    "import os\n",
    "\n",
    "# Initialize Ray\n",
    "ray.init(ignore_reinit_error=True)\n",
    "\n",
    "## 1. Data import and data scaling\n",
    "\n",
    "df_train = pd.read_csv('data/df_train.csv', index_col=0)\n",
    "df_train.index = pd.to_datetime(df_train.index)\n",
    "\n",
    "df_test = pd.read_csv('data/df_test.csv', index_col=0)\n",
    "df_test.index = pd.to_datetime(df_test.index)\n",
    "\n",
    "# Removing duplicates in index (if any)\n",
    "df_train = df_train[~df_train.index.duplicated(keep='first')]\n",
    "df_test = df_test[~df_test.index.duplicated(keep='first')]\n",
    "\n",
    "# Scaling the data\n",
    "scaler = MinMaxScaler(feature_range=(0, 1))\n",
    "\n",
    "df_train = pd.DataFrame(scaler.fit_transform(df_train), columns=df_train.columns, index=df_train.index)\n",
    "df_test = pd.DataFrame(scaler.transform(df_test), columns=df_test.columns, index=df_test.index)\n",
    "\n",
    "# Features to use\n",
    "features = ['rsi', 'ema', 'roc']"
   ],
   "metadata": {
    "collapsed": false,
    "ExecuteTime": {
     "end_time": "2024-09-19T08:42:30.218291Z",
     "start_time": "2024-09-19T08:42:21.576686Z"
    }
   },
   "id": "85b14f3f117a26f8",
   "execution_count": 9
  },
  {
   "cell_type": "code",
   "outputs": [],
   "source": [
    "## 2. Create the custom environment\n",
    "\n",
    "def add_signals(env):\n",
    "\tstart = env.frame_bound[0] - env.window_size\n",
    "\tend = env.frame_bound[1]\n",
    "\tprices = env.df.loc[:, 'Price'].to_numpy()[start:end]\n",
    "\tsignal_features = env.df.loc[:, features].to_numpy()[start:end]\n",
    "\n",
    "\treturn prices, signal_features\n",
    "\n",
    "\n",
    "class MyCustomEnv(StocksEnv):\n",
    "\t_process_data = add_signals\n",
    "\n",
    "\n",
    "def my_env_creator(env_config: EnvContext):\n",
    "\treturn MyCustomEnv(df=df_train, window_size=12, frame_bound=(12, 440473))\n",
    "\n",
    "register_env(\"custom_stock_env\", my_env_creator)"
   ],
   "metadata": {
    "collapsed": false,
    "ExecuteTime": {
     "end_time": "2024-09-19T08:42:37.051039Z",
     "start_time": "2024-09-19T08:42:36.247309Z"
    }
   },
   "id": "689a016ecdc7e0e1",
   "execution_count": 12
  },
  {
   "cell_type": "code",
   "outputs": [
    {
     "name": "stderr",
     "output_type": "stream",
     "text": [
      "2024-09-19 10:52:51,832\tWARNING deprecation.py:50 -- DeprecationWarning: `AlgorithmConfig.env_runners(num_rollout_workers)` has been deprecated. Use `AlgorithmConfig.env_runners(num_env_runners)` instead. This will raise an error in the future!\n"
     ]
    },
    {
     "ename": "AttributeError",
     "evalue": "'DQNConfig' object has no attribute 'logging'",
     "output_type": "error",
     "traceback": [
      "\u001B[1;31m---------------------------------------------------------------------------\u001B[0m",
      "\u001B[1;31mAttributeError\u001B[0m                            Traceback (most recent call last)",
      "Cell \u001B[1;32mIn[20], line 8\u001B[0m\n\u001B[0;32m      1\u001B[0m config \u001B[38;5;241m=\u001B[39m (\n\u001B[0;32m      2\u001B[0m     \u001B[43mDQNConfig\u001B[49m\u001B[43m(\u001B[49m\u001B[43m)\u001B[49m\n\u001B[0;32m      3\u001B[0m \u001B[43m    \u001B[49m\u001B[38;5;241;43m.\u001B[39;49m\u001B[43menvironment\u001B[49m\u001B[43m(\u001B[49m\u001B[38;5;124;43m\"\u001B[39;49m\u001B[38;5;124;43mcustom_stock_env\u001B[39;49m\u001B[38;5;124;43m\"\u001B[39;49m\u001B[43m,\u001B[49m\u001B[43m \u001B[49m\u001B[43menv_config\u001B[49m\u001B[38;5;241;43m=\u001B[39;49m\u001B[43m{\u001B[49m\u001B[43m}\u001B[49m\u001B[43m)\u001B[49m\n\u001B[0;32m      4\u001B[0m \u001B[43m    \u001B[49m\u001B[38;5;241;43m.\u001B[39;49m\u001B[43mframework\u001B[49m\u001B[43m(\u001B[49m\u001B[38;5;124;43m\"\u001B[39;49m\u001B[38;5;124;43mtorch\u001B[39;49m\u001B[38;5;124;43m\"\u001B[39;49m\u001B[43m)\u001B[49m\n\u001B[0;32m      5\u001B[0m \u001B[43m    \u001B[49m\u001B[38;5;241;43m.\u001B[39;49m\u001B[43mrollouts\u001B[49m\u001B[43m(\u001B[49m\u001B[43mnum_rollout_workers\u001B[49m\u001B[38;5;241;43m=\u001B[39;49m\u001B[38;5;241;43m1\u001B[39;49m\u001B[43m)\u001B[49m\n\u001B[0;32m      6\u001B[0m \u001B[43m    \u001B[49m\u001B[38;5;241;43m.\u001B[39;49m\u001B[43mtraining\u001B[49m\u001B[43m(\u001B[49m\u001B[43mlr\u001B[49m\u001B[38;5;241;43m=\u001B[39;49m\u001B[38;5;241;43m1e-3\u001B[39;49m\u001B[43m,\u001B[49m\u001B[43m \u001B[49m\u001B[43mgamma\u001B[49m\u001B[38;5;241;43m=\u001B[39;49m\u001B[38;5;241;43m0.99\u001B[39;49m\u001B[43m)\u001B[49m\n\u001B[0;32m      7\u001B[0m \u001B[43m    \u001B[49m\u001B[38;5;241;43m.\u001B[39;49m\u001B[43mresources\u001B[49m\u001B[43m(\u001B[49m\u001B[43mnum_gpus\u001B[49m\u001B[38;5;241;43m=\u001B[39;49m\u001B[38;5;241;43m0\u001B[39;49m\u001B[43m)\u001B[49m\n\u001B[1;32m----> 8\u001B[0m \u001B[43m    \u001B[49m\u001B[38;5;241;43m.\u001B[39;49m\u001B[43mlogging\u001B[49m(log_dir\u001B[38;5;241m=\u001B[39m\u001B[38;5;124m\"\u001B[39m\u001B[38;5;124m./ray_results\u001B[39m\u001B[38;5;124m\"\u001B[39m)  \u001B[38;5;66;03m# Custom log directory\u001B[39;00m\n\u001B[0;32m      9\u001B[0m )\n",
      "\u001B[1;31mAttributeError\u001B[0m: 'DQNConfig' object has no attribute 'logging'"
     ]
    }
   ],
   "source": [
    "config = (\n",
    "    DQNConfig()\n",
    "    .environment(\"custom_stock_env\", env_config={})\n",
    "    .framework(\"torch\")\n",
    "    .rollouts(num_rollout_workers=1)\n",
    "    .training(lr=1e-3, gamma=0.99)\n",
    "    .resources(num_gpus=0)\n",
    "    .logging(log_dir=\"./ray_results\")  # Custom log directory\n",
    ")"
   ],
   "metadata": {
    "collapsed": false,
    "ExecuteTime": {
     "end_time": "2024-09-19T08:52:51.852956Z",
     "start_time": "2024-09-19T08:52:51.828854Z"
    }
   },
   "id": "86d7d4a886d10e24",
   "execution_count": 20
  },
  {
   "cell_type": "code",
   "outputs": [],
   "source": [
    "result = trainer.train()"
   ],
   "metadata": {
    "collapsed": false,
    "ExecuteTime": {
     "end_time": "2024-09-19T08:47:28.298163Z",
     "start_time": "2024-09-19T08:46:46.950680Z"
    }
   },
   "id": "2dea2f34dc25f7bd",
   "execution_count": 17
  },
  {
   "cell_type": "code",
   "outputs": [],
   "source": [],
   "metadata": {
    "collapsed": false
   },
   "id": "b4dcf0067f185e95"
  },
  {
   "cell_type": "code",
   "outputs": [],
   "source": [],
   "metadata": {
    "collapsed": false
   },
   "id": "b83b9f0a696a3789"
  },
  {
   "cell_type": "code",
   "outputs": [],
   "source": [
    "## 4. Evaluation\n",
    "\n",
    "env_test = MyCustomEnv(df=df_test, window_size=12, frame_bound=(12, 224933))\n",
    "obs = env_test.reset()\n",
    "\n",
    "# Perform evaluation\n",
    "done = False\n",
    "while not done:\n",
    "\taction = trainer.compute_single_action(obs)\n",
    "\tobs, reward, done, info = env_test.step(action)\n",
    "\n",
    "## 5. Store the results, Create plots\n",
    "\n",
    "from helper_code.metrics_calculation import *\n",
    "\n",
    "model_name = 'test'\n",
    "\n",
    "final_results = calculate_metrics_create_plots(env_train, env_test, df_test, [], short_ticks=[], long_ticks=[],\n",
    "\t\t\t\t\t\t\t\t\t\t\t   model_name=model_name)\n",
    "print(final_results)\n",
    "\n",
    "# Shutdown Ray\n",
    "ray.shutdown()"
   ],
   "metadata": {
    "collapsed": false
   },
   "id": "53d5b1aeb23a76ed"
  }
 ],
 "metadata": {
  "kernelspec": {
   "display_name": "Python 3",
   "language": "python",
   "name": "python3"
  },
  "language_info": {
   "codemirror_mode": {
    "name": "ipython",
    "version": 2
   },
   "file_extension": ".py",
   "mimetype": "text/x-python",
   "name": "python",
   "nbconvert_exporter": "python",
   "pygments_lexer": "ipython2",
   "version": "2.7.6"
  }
 },
 "nbformat": 4,
 "nbformat_minor": 5
}
