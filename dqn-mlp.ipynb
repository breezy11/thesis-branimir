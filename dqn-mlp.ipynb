{
 "cells": [
  {
   "cell_type": "markdown",
   "metadata": {},
   "source": [
    "# DQN LSTM"
   ]
  },
  {
   "cell_type": "code",
   "execution_count": 12,
   "metadata": {
    "ExecuteTime": {
     "end_time": "2024-09-18T19:22:08.389050Z",
     "start_time": "2024-09-18T19:22:08.375359Z"
    }
   },
   "outputs": [],
   "source": [
    "# imports\n",
    "# Stable baselines - rl stuff\n",
    "from stable_baselines3.common.vec_env import DummyVecEnv\n",
    "from stable_baselines3.common.utils import set_random_seed\n",
    "\n",
    "# Processing libraries\n",
    "import pandas as pd\n",
    "import random\n",
    "import numpy as np\n",
    "\n",
    "seed = 42\n",
    "\n",
    "random.seed(seed)\n",
    "np.random.seed(seed)\n",
    "set_random_seed(seed)\n",
    "\n",
    "# gym trading and finta\n",
    "from gym_anytrading.envs import StocksEnv\n",
    "from sklearn.preprocessing import MinMaxScaler\n",
    "import os"
   ]
  },
  {
   "cell_type": "markdown",
   "metadata": {},
   "source": [
    "## 1. Data import and data scaling"
   ]
  },
  {
   "cell_type": "code",
   "execution_count": 13,
   "metadata": {
    "ExecuteTime": {
     "end_time": "2024-09-18T19:22:12.649372Z",
     "start_time": "2024-09-18T19:22:09.560960Z"
    }
   },
   "outputs": [],
   "source": [
    "df_train = pd.read_csv('data/df_train.csv', index_col=0)\n",
    "df_train.index = pd.to_datetime(df_train.index)\n",
    "\n",
    "df_test = pd.read_csv('data/df_test.csv', index_col=0)\n",
    "df_test.index = pd.to_datetime(df_test.index)\n",
    "\n",
    "# Removing duplicates in index (if any)\n",
    "df_train = df_train[~df_train.index.duplicated(keep='first')]\n",
    "df_test = df_test[~df_test.index.duplicated(keep='first')]\n",
    "\n",
    "scaler = MinMaxScaler(feature_range=(0, 1))\n",
    "\n",
    "df_train = pd.DataFrame(scaler.fit_transform(df_train), columns=df_train.columns, index=df_train.index)\n",
    "\n",
    "df_test = pd.DataFrame(scaler.transform(df_test), columns=df_test.columns, index=df_test.index)"
   ]
  },
  {
   "cell_type": "code",
   "execution_count": null,
   "metadata": {},
   "outputs": [],
   "source": [
    "# features = df_train.drop('Price', axis=1).columns.tolist()\n",
    "features = ['rsi', 'ema', 'roc']"
   ]
  },
  {
   "cell_type": "markdown",
   "metadata": {},
   "source": [
    "## 2. Create the environment"
   ]
  },
  {
   "cell_type": "code",
   "execution_count": null,
   "metadata": {},
   "outputs": [],
   "source": [
    "def add_signals(env):\n",
    "    start = env.frame_bound[0] - env.window_size\n",
    "    end = env.frame_bound[1]\n",
    "    prices = env.df.loc[:, 'Price'].to_numpy()[start:end]\n",
    "    signal_features = env.df.loc[:, features].to_numpy()[start:end]\n",
    "    \n",
    "    return prices, signal_features"
   ]
  },
  {
   "cell_type": "code",
   "execution_count": null,
   "metadata": {},
   "outputs": [],
   "source": [
    "class MyCustomEnv(StocksEnv):\n",
    "    _process_data = add_signals\n",
    "    \n",
    "env_train = MyCustomEnv(df=df_train, window_size=12, frame_bound=(12,440473))"
   ]
  },
  {
   "cell_type": "markdown",
   "metadata": {},
   "source": [
    "## 3. Build Environment and Train"
   ]
  },
  {
   "cell_type": "code",
   "execution_count": null,
   "metadata": {},
   "outputs": [],
   "source": [
    "save_path = os.path.join('Training', 'Models')"
   ]
  },
  {
   "cell_type": "code",
   "execution_count": null,
   "metadata": {},
   "outputs": [],
   "source": [
    "env_wrapped = lambda: env_train\n",
    "env_wrapped = DummyVecEnv([env_wrapped])"
   ]
  },
  {
   "cell_type": "code",
   "execution_count": null,
   "metadata": {},
   "outputs": [],
   "source": [
    "from stable_baselines3 import DQN\n",
    "\n",
    "model = DQN(\"MlpPolicy\", env_wrapped, verbose=2)"
   ]
  },
  {
   "cell_type": "code",
   "execution_count": null,
   "metadata": {},
   "outputs": [],
   "source": [
    "train_timesteps = 10000\n",
    "model.learn(total_timesteps=train_timesteps)"
   ]
  },
  {
   "cell_type": "markdown",
   "metadata": {},
   "source": [
    "## 4. Evaluation"
   ]
  },
  {
   "cell_type": "code",
   "execution_count": null,
   "metadata": {},
   "outputs": [],
   "source": [
    "env_test = MyCustomEnv(df=df_test, window_size=12, frame_bound=(12, 224933))\n",
    "obs = env_test.reset()[0]\n",
    "\n",
    "while True: \n",
    "    action, _states = model.predict(obs, deterministic=True)\n",
    "    obs, rewards, extra, done, info = env_test.step(action)\n",
    "    if done:\n",
    "        print(\"info\", info)\n",
    "        break\n",
    "        \n",
    "short_ticks, long_ticks = env_test.render_all()"
   ]
  },
  {
   "cell_type": "markdown",
   "metadata": {},
   "source": [
    "## 5. Store the results, Create plots"
   ]
  },
  {
   "cell_type": "code",
   "execution_count": null,
   "metadata": {},
   "outputs": [],
   "source": [
    "from helper_code.metrics_calculation import *\n",
    "model_name = 'test'"
   ]
  },
  {
   "cell_type": "code",
   "execution_count": null,
   "metadata": {},
   "outputs": [],
   "source": [
    "final_results = calculate_metrics_create_plots(env_train, env_test, df_test, model.losses, short_ticks, long_ticks, model_name)"
   ]
  },
  {
   "cell_type": "code",
   "execution_count": null,
   "metadata": {},
   "outputs": [],
   "source": [
    "final_results"
   ]
  }
 ],
 "metadata": {
  "kernelspec": {
   "display_name": "Python 3 (ipykernel)",
   "language": "python",
   "name": "python3"
  },
  "language_info": {
   "codemirror_mode": {
    "name": "ipython",
    "version": 3
   },
   "file_extension": ".py",
   "mimetype": "text/x-python",
   "name": "python",
   "nbconvert_exporter": "python",
   "pygments_lexer": "ipython3",
   "version": "3.11.2"
  }
 },
 "nbformat": 4,
 "nbformat_minor": 2
}
